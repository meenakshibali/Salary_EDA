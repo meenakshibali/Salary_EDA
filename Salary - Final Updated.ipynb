{
 "cells": [
  {
   "cell_type": "code",
   "execution_count": 1,
   "id": "1898b64b",
   "metadata": {},
   "outputs": [],
   "source": [
    "import pandas as pd  # data preprocessing\n",
    "import numpy as np  # Mathematical calculation\n",
    "import matplotlib.pyplot as plt  # data visualization\n",
    "import seaborn as sns   # data visualization\n",
    "\n",
    "import warnings\n",
    "warnings.filterwarnings(\"ignore\")"
   ]
  },
  {
   "cell_type": "raw",
   "id": "fbbda595",
   "metadata": {},
   "source": [
    "Features\tDescription\n",
    "age\tAge of the person\n",
    "Workclass\tCategorical variable having 8 categories each denoting the type of employment\n",
    "fnlwgt\tfinal weight.\n",
    "education\tCategorical variable with 16 categories each denoting the qualification of the person.\n",
    "education-num\tnumber of years of education\n",
    "marital-status\tCategorical variable with 7 categories\n",
    "occupation\tCategorical variable with 14 categories each denoting the type of occupation of the individual\n",
    "relationship\tCategorical variable with 6 categories.\n",
    "race\tCategorical variable with 5 categories each denoting the ethnicity of the individual\n",
    "sex\tGender of the person\n",
    "capital-gain\tContinuous\n",
    "capital-loss\tContinuous\n",
    "hours-per-week\tWorking hours per week\n",
    "native-country\tCategorical\n",
    "Income\tTarget variable. 1 indicates >=50k. 0 indicates <50K\n",
    "\n",
    "The task is to predict whether a person makes over $50K a year or not\n",
    "\n"
   ]
  },
  {
   "cell_type": "markdown",
   "id": "e24b7be0",
   "metadata": {},
   "source": [
    "<h2> Load file </h2>"
   ]
  },
  {
   "cell_type": "code",
   "execution_count": 2,
   "id": "b766a3ed",
   "metadata": {},
   "outputs": [
    {
     "data": {
      "text/html": [
       "<div>\n",
       "<style scoped>\n",
       "    .dataframe tbody tr th:only-of-type {\n",
       "        vertical-align: middle;\n",
       "    }\n",
       "\n",
       "    .dataframe tbody tr th {\n",
       "        vertical-align: top;\n",
       "    }\n",
       "\n",
       "    .dataframe thead th {\n",
       "        text-align: right;\n",
       "    }\n",
       "</style>\n",
       "<table border=\"1\" class=\"dataframe\">\n",
       "  <thead>\n",
       "    <tr style=\"text-align: right;\">\n",
       "      <th></th>\n",
       "      <th>Unnamed: 0</th>\n",
       "      <th>age</th>\n",
       "      <th>Workclass</th>\n",
       "      <th>fnlwgt</th>\n",
       "      <th>education</th>\n",
       "      <th>education-num</th>\n",
       "      <th>marital-status</th>\n",
       "      <th>occupation</th>\n",
       "      <th>relationship</th>\n",
       "      <th>race</th>\n",
       "      <th>sex</th>\n",
       "      <th>capital-gain</th>\n",
       "      <th>capital-loss</th>\n",
       "      <th>hours-per-week</th>\n",
       "      <th>native-country</th>\n",
       "      <th>Income</th>\n",
       "    </tr>\n",
       "  </thead>\n",
       "  <tbody>\n",
       "    <tr>\n",
       "      <th>0</th>\n",
       "      <td>0</td>\n",
       "      <td>39</td>\n",
       "      <td>State-gov</td>\n",
       "      <td>77516</td>\n",
       "      <td>Bachelors</td>\n",
       "      <td>13</td>\n",
       "      <td>Never-married</td>\n",
       "      <td>Adm-clerical</td>\n",
       "      <td>Not-in-family</td>\n",
       "      <td>White</td>\n",
       "      <td>Male</td>\n",
       "      <td>2174</td>\n",
       "      <td>0</td>\n",
       "      <td>40</td>\n",
       "      <td>United-States</td>\n",
       "      <td>0</td>\n",
       "    </tr>\n",
       "    <tr>\n",
       "      <th>1</th>\n",
       "      <td>1</td>\n",
       "      <td>50</td>\n",
       "      <td>Self-emp-not-inc</td>\n",
       "      <td>83311</td>\n",
       "      <td>Bachelors</td>\n",
       "      <td>13</td>\n",
       "      <td>Married-civ-spouse</td>\n",
       "      <td>Exec-managerial</td>\n",
       "      <td>Husband</td>\n",
       "      <td>White</td>\n",
       "      <td>Male</td>\n",
       "      <td>0</td>\n",
       "      <td>0</td>\n",
       "      <td>13</td>\n",
       "      <td>United-States</td>\n",
       "      <td>0</td>\n",
       "    </tr>\n",
       "  </tbody>\n",
       "</table>\n",
       "</div>"
      ],
      "text/plain": [
       "   Unnamed: 0  age          Workclass  fnlwgt   education  education-num  \\\n",
       "0           0   39          State-gov   77516   Bachelors             13   \n",
       "1           1   50   Self-emp-not-inc   83311   Bachelors             13   \n",
       "\n",
       "        marital-status        occupation    relationship    race    sex  \\\n",
       "0        Never-married      Adm-clerical   Not-in-family   White   Male   \n",
       "1   Married-civ-spouse   Exec-managerial         Husband   White   Male   \n",
       "\n",
       "   capital-gain  capital-loss  hours-per-week  native-country  Income  \n",
       "0          2174             0              40   United-States       0  \n",
       "1             0             0              13   United-States       0  "
      ]
     },
     "execution_count": 2,
     "metadata": {},
     "output_type": "execute_result"
    }
   ],
   "source": [
    "df=pd.read_csv(\"salary1.csv\")\n",
    "df.head(2)"
   ]
  },
  {
   "cell_type": "code",
   "execution_count": 3,
   "id": "f6cf3ea8",
   "metadata": {},
   "outputs": [
    {
     "name": "stdout",
     "output_type": "stream",
     "text": [
      "<class 'pandas.core.frame.DataFrame'>\n",
      "RangeIndex: 1032 entries, 0 to 1031\n",
      "Data columns (total 16 columns):\n",
      " #   Column          Non-Null Count  Dtype \n",
      "---  ------          --------------  ----- \n",
      " 0   Unnamed: 0      1032 non-null   int64 \n",
      " 1   age             1032 non-null   int64 \n",
      " 2   Workclass       1032 non-null   object\n",
      " 3   fnlwgt          1032 non-null   int64 \n",
      " 4   education       1032 non-null   object\n",
      " 5   education-num   1032 non-null   int64 \n",
      " 6   marital-status  1032 non-null   object\n",
      " 7   occupation      1032 non-null   object\n",
      " 8   relationship    1032 non-null   object\n",
      " 9   race            1032 non-null   object\n",
      " 10  sex             1032 non-null   object\n",
      " 11  capital-gain    1032 non-null   int64 \n",
      " 12  capital-loss    1032 non-null   int64 \n",
      " 13  hours-per-week  1032 non-null   int64 \n",
      " 14  native-country  1032 non-null   object\n",
      " 15  Income          1032 non-null   int64 \n",
      "dtypes: int64(8), object(8)\n",
      "memory usage: 129.1+ KB\n"
     ]
    }
   ],
   "source": [
    "df.info()"
   ]
  },
  {
   "cell_type": "markdown",
   "id": "f25ad005",
   "metadata": {},
   "source": [
    "<h2> Null Value </h2>"
   ]
  },
  {
   "cell_type": "code",
   "execution_count": 4,
   "id": "154891c1",
   "metadata": {},
   "outputs": [
    {
     "data": {
      "text/plain": [
       "Unnamed: 0        0\n",
       "age               0\n",
       "Workclass         0\n",
       "fnlwgt            0\n",
       "education         0\n",
       "education-num     0\n",
       "marital-status    0\n",
       "occupation        0\n",
       "relationship      0\n",
       "race              0\n",
       "sex               0\n",
       "capital-gain      0\n",
       "capital-loss      0\n",
       "hours-per-week    0\n",
       "native-country    0\n",
       "Income            0\n",
       "dtype: int64"
      ]
     },
     "execution_count": 4,
     "metadata": {},
     "output_type": "execute_result"
    }
   ],
   "source": [
    "df.isnull().sum()"
   ]
  },
  {
   "cell_type": "code",
   "execution_count": 5,
   "id": "286daff0",
   "metadata": {},
   "outputs": [
    {
     "data": {
      "text/plain": [
       "(1032, 16)"
      ]
     },
     "execution_count": 5,
     "metadata": {},
     "output_type": "execute_result"
    }
   ],
   "source": [
    "df.shape"
   ]
  },
  {
   "cell_type": "code",
   "execution_count": 6,
   "id": "2058a634",
   "metadata": {},
   "outputs": [
    {
     "data": {
      "text/plain": [
       "Unnamed: 0        0\n",
       "age               0\n",
       "Workclass         0\n",
       "fnlwgt            0\n",
       "education         0\n",
       "education-num     0\n",
       "marital-status    0\n",
       "occupation        0\n",
       "relationship      0\n",
       "race              0\n",
       "sex               0\n",
       "capital-gain      0\n",
       "capital-loss      0\n",
       "hours-per-week    0\n",
       "native-country    0\n",
       "Income            0\n",
       "dtype: int64"
      ]
     },
     "execution_count": 6,
     "metadata": {},
     "output_type": "execute_result"
    }
   ],
   "source": [
    "df.isin(['?']).sum()"
   ]
  },
  {
   "cell_type": "markdown",
   "id": "53bcb55a",
   "metadata": {},
   "source": [
    "# <h3> Drop column </h3>"
   ]
  },
  {
   "cell_type": "code",
   "execution_count": 7,
   "id": "22a3c543",
   "metadata": {},
   "outputs": [],
   "source": [
    "df.drop('Unnamed: 0', axis= 1, inplace=True)"
   ]
  },
  {
   "cell_type": "code",
   "execution_count": 8,
   "id": "ae4620ce",
   "metadata": {
    "scrolled": true
   },
   "outputs": [
    {
     "data": {
      "text/html": [
       "<div>\n",
       "<style scoped>\n",
       "    .dataframe tbody tr th:only-of-type {\n",
       "        vertical-align: middle;\n",
       "    }\n",
       "\n",
       "    .dataframe tbody tr th {\n",
       "        vertical-align: top;\n",
       "    }\n",
       "\n",
       "    .dataframe thead th {\n",
       "        text-align: right;\n",
       "    }\n",
       "</style>\n",
       "<table border=\"1\" class=\"dataframe\">\n",
       "  <thead>\n",
       "    <tr style=\"text-align: right;\">\n",
       "      <th></th>\n",
       "      <th>age</th>\n",
       "      <th>fnlwgt</th>\n",
       "      <th>education-num</th>\n",
       "      <th>capital-gain</th>\n",
       "      <th>capital-loss</th>\n",
       "      <th>hours-per-week</th>\n",
       "      <th>Income</th>\n",
       "    </tr>\n",
       "  </thead>\n",
       "  <tbody>\n",
       "    <tr>\n",
       "      <th>count</th>\n",
       "      <td>1032.000000</td>\n",
       "      <td>1.032000e+03</td>\n",
       "      <td>1032.000000</td>\n",
       "      <td>1032.00000</td>\n",
       "      <td>1032.000000</td>\n",
       "      <td>1032.000000</td>\n",
       "      <td>1032.000000</td>\n",
       "    </tr>\n",
       "    <tr>\n",
       "      <th>mean</th>\n",
       "      <td>37.954457</td>\n",
       "      <td>1.918318e+05</td>\n",
       "      <td>10.221899</td>\n",
       "      <td>560.19186</td>\n",
       "      <td>102.870155</td>\n",
       "      <td>40.706395</td>\n",
       "      <td>0.246124</td>\n",
       "    </tr>\n",
       "    <tr>\n",
       "      <th>std</th>\n",
       "      <td>12.825353</td>\n",
       "      <td>1.074243e+05</td>\n",
       "      <td>2.501636</td>\n",
       "      <td>2406.47961</td>\n",
       "      <td>432.251488</td>\n",
       "      <td>11.736603</td>\n",
       "      <td>0.430961</td>\n",
       "    </tr>\n",
       "    <tr>\n",
       "      <th>min</th>\n",
       "      <td>17.000000</td>\n",
       "      <td>2.117400e+04</td>\n",
       "      <td>1.000000</td>\n",
       "      <td>0.00000</td>\n",
       "      <td>0.000000</td>\n",
       "      <td>1.000000</td>\n",
       "      <td>0.000000</td>\n",
       "    </tr>\n",
       "    <tr>\n",
       "      <th>25%</th>\n",
       "      <td>28.000000</td>\n",
       "      <td>1.155792e+05</td>\n",
       "      <td>9.000000</td>\n",
       "      <td>0.00000</td>\n",
       "      <td>0.000000</td>\n",
       "      <td>40.000000</td>\n",
       "      <td>0.000000</td>\n",
       "    </tr>\n",
       "    <tr>\n",
       "      <th>50%</th>\n",
       "      <td>37.000000</td>\n",
       "      <td>1.807065e+05</td>\n",
       "      <td>10.000000</td>\n",
       "      <td>0.00000</td>\n",
       "      <td>0.000000</td>\n",
       "      <td>40.000000</td>\n",
       "      <td>0.000000</td>\n",
       "    </tr>\n",
       "    <tr>\n",
       "      <th>75%</th>\n",
       "      <td>46.000000</td>\n",
       "      <td>2.461932e+05</td>\n",
       "      <td>13.000000</td>\n",
       "      <td>0.00000</td>\n",
       "      <td>0.000000</td>\n",
       "      <td>45.000000</td>\n",
       "      <td>0.000000</td>\n",
       "    </tr>\n",
       "    <tr>\n",
       "      <th>max</th>\n",
       "      <td>90.000000</td>\n",
       "      <td>1.033222e+06</td>\n",
       "      <td>16.000000</td>\n",
       "      <td>25236.00000</td>\n",
       "      <td>2415.000000</td>\n",
       "      <td>99.000000</td>\n",
       "      <td>1.000000</td>\n",
       "    </tr>\n",
       "  </tbody>\n",
       "</table>\n",
       "</div>"
      ],
      "text/plain": [
       "               age        fnlwgt  education-num  capital-gain  capital-loss  \\\n",
       "count  1032.000000  1.032000e+03    1032.000000    1032.00000   1032.000000   \n",
       "mean     37.954457  1.918318e+05      10.221899     560.19186    102.870155   \n",
       "std      12.825353  1.074243e+05       2.501636    2406.47961    432.251488   \n",
       "min      17.000000  2.117400e+04       1.000000       0.00000      0.000000   \n",
       "25%      28.000000  1.155792e+05       9.000000       0.00000      0.000000   \n",
       "50%      37.000000  1.807065e+05      10.000000       0.00000      0.000000   \n",
       "75%      46.000000  2.461932e+05      13.000000       0.00000      0.000000   \n",
       "max      90.000000  1.033222e+06      16.000000   25236.00000   2415.000000   \n",
       "\n",
       "       hours-per-week       Income  \n",
       "count     1032.000000  1032.000000  \n",
       "mean        40.706395     0.246124  \n",
       "std         11.736603     0.430961  \n",
       "min          1.000000     0.000000  \n",
       "25%         40.000000     0.000000  \n",
       "50%         40.000000     0.000000  \n",
       "75%         45.000000     0.000000  \n",
       "max         99.000000     1.000000  "
      ]
     },
     "execution_count": 8,
     "metadata": {},
     "output_type": "execute_result"
    }
   ],
   "source": [
    "df.describe()"
   ]
  },
  {
   "cell_type": "raw",
   "id": "c473aed2",
   "metadata": {},
   "source": [
    "age: mean = median , there is no outlier\n",
    "minimum age of person is 17, maximum is 90\n",
    "75% (Quartile 3) data of person ages are below 46"
   ]
  },
  {
   "cell_type": "markdown",
   "id": "2be0a937",
   "metadata": {},
   "source": [
    "<h2> Analysis </h2>"
   ]
  },
  {
   "cell_type": "code",
   "execution_count": 9,
   "id": "465a43fb",
   "metadata": {},
   "outputs": [
    {
     "data": {
      "text/plain": [
       "<AxesSubplot:xlabel='Income', ylabel='count'>"
      ]
     },
     "execution_count": 9,
     "metadata": {},
     "output_type": "execute_result"
    },
    {
     "data": {
      "image/png": "[encoded data removed]",
      "text/plain": [
       "<Figure size 432x288 with 1 Axes>"
      ]
     },
     "metadata": {
      "needs_background": "light"
     },
     "output_type": "display_data"
    }
   ],
   "source": [
    "sns.countplot(x='Income', data=df, hue='sex')"
   ]
  },
  {
   "cell_type": "code",
   "execution_count": 10,
   "id": "8fbe1250",
   "metadata": {},
   "outputs": [
    {
     "data": {
      "text/plain": [
       "0    778\n",
       "1    254\n",
       "Name: Income, dtype: int64"
      ]
     },
     "execution_count": 10,
     "metadata": {},
     "output_type": "execute_result"
    }
   ],
   "source": [
    "df['Income'].value_counts()"
   ]
  },
  {
   "cell_type": "code",
   "execution_count": 11,
   "id": "cbabe78d",
   "metadata": {},
   "outputs": [
    {
     "data": {
      "text/plain": [
       "sex      Income\n",
       " Female  0         283\n",
       "         1          48\n",
       " Male    0         495\n",
       "         1         206\n",
       "Name: Income, dtype: int64"
      ]
     },
     "execution_count": 11,
     "metadata": {},
     "output_type": "execute_result"
    }
   ],
   "source": [
    "df.groupby(['sex','Income'])['Income'].count()"
   ]
  },
  {
   "cell_type": "raw",
   "id": "7024525f",
   "metadata": {},
   "source": [
    "Graph says that count of rows are more towards income (<50k) as comapred with (>=50K)\n",
    "so our model will learn more about income <50k, so this is imbalance data\n",
    "So here 75% of data income <50k, 25% of data is >=50k"
   ]
  },
  {
   "cell_type": "code",
   "execution_count": 12,
   "id": "9ce6cb70",
   "metadata": {},
   "outputs": [
    {
     "name": "stdout",
     "output_type": "stream",
     "text": [
      "0(<50k):75.39\n",
      "1(>=50k):24.61\n"
     ]
    }
   ],
   "source": [
    "print(f\"0(<50k):{round(778/1032 *100,2)}\")\n",
    "print(f\"1(>=50k):{round(254/1032 *100,2)}\")"
   ]
  },
  {
   "cell_type": "code",
   "execution_count": 13,
   "id": "a35b0876",
   "metadata": {},
   "outputs": [
    {
     "data": {
      "image/png": "[encoded data removed]",
      "text/plain": [
       "<Figure size 720x432 with 1 Axes>"
      ]
     },
     "metadata": {
      "needs_background": "light"
     },
     "output_type": "display_data"
    }
   ],
   "source": [
    "plt.figure(figsize=(10,6))\n",
    "sns.countplot(df['race'],hue='Income', data=df, palette='magma')\n",
    "plt.show()"
   ]
  },
  {
   "cell_type": "markdown",
   "id": "c0644b66",
   "metadata": {},
   "source": [
    "# <h2> Correlation </h2>"
   ]
  },
  {
   "cell_type": "code",
   "execution_count": 14,
   "id": "2560d3e1",
   "metadata": {},
   "outputs": [
    {
     "data": {
      "text/plain": [
       "<AxesSubplot:>"
      ]
     },
     "execution_count": 14,
     "metadata": {},
     "output_type": "execute_result"
    },
    {
     "data": {
      "image/png": "[encoded data removed]",
      "text/plain": [
       "<Figure size 720x432 with 2 Axes>"
      ]
     },
     "metadata": {
      "needs_background": "light"
     },
     "output_type": "display_data"
    }
   ],
   "source": [
    "plt.figure(figsize=(10,6))\n",
    "sns.heatmap(df.corr(),annot=True)"
   ]
  },
  {
   "cell_type": "raw",
   "id": "04644d47",
   "metadata": {},
   "source": [
    "--> Here fnlwgt has -0.00 correlation it means no correlation with target(income), but we cannot drop this column becaze target column is not continous data, it's Discrete data/Binary data.\n",
    "\n",
    "--> in the above graph the correlation between independent variable with each other is not more than 0.80, so we will not drop any column from dataset.If correlation of any indepenent variable with each other goes above 0.80 (strong correlation) then only we can drop that column."
   ]
  },
  {
   "cell_type": "code",
   "execution_count": 15,
   "id": "523ceafb",
   "metadata": {},
   "outputs": [],
   "source": [
    "feature= df.iloc[:,:-1]\n",
    "target= df.iloc[:,-1]"
   ]
  },
  {
   "cell_type": "code",
   "execution_count": 16,
   "id": "1396ce1c",
   "metadata": {},
   "outputs": [
    {
     "data": {
      "text/html": [
       "<div>\n",
       "<style scoped>\n",
       "    .dataframe tbody tr th:only-of-type {\n",
       "        vertical-align: middle;\n",
       "    }\n",
       "\n",
       "    .dataframe tbody tr th {\n",
       "        vertical-align: top;\n",
       "    }\n",
       "\n",
       "    .dataframe thead th {\n",
       "        text-align: right;\n",
       "    }\n",
       "</style>\n",
       "<table border=\"1\" class=\"dataframe\">\n",
       "  <thead>\n",
       "    <tr style=\"text-align: right;\">\n",
       "      <th></th>\n",
       "      <th>age</th>\n",
       "      <th>Workclass</th>\n",
       "      <th>fnlwgt</th>\n",
       "      <th>education</th>\n",
       "      <th>education-num</th>\n",
       "      <th>marital-status</th>\n",
       "      <th>occupation</th>\n",
       "      <th>relationship</th>\n",
       "      <th>race</th>\n",
       "      <th>sex</th>\n",
       "      <th>capital-gain</th>\n",
       "      <th>capital-loss</th>\n",
       "      <th>hours-per-week</th>\n",
       "      <th>native-country</th>\n",
       "    </tr>\n",
       "  </thead>\n",
       "  <tbody>\n",
       "    <tr>\n",
       "      <th>0</th>\n",
       "      <td>39</td>\n",
       "      <td>State-gov</td>\n",
       "      <td>77516</td>\n",
       "      <td>Bachelors</td>\n",
       "      <td>13</td>\n",
       "      <td>Never-married</td>\n",
       "      <td>Adm-clerical</td>\n",
       "      <td>Not-in-family</td>\n",
       "      <td>White</td>\n",
       "      <td>Male</td>\n",
       "      <td>2174</td>\n",
       "      <td>0</td>\n",
       "      <td>40</td>\n",
       "      <td>United-States</td>\n",
       "    </tr>\n",
       "    <tr>\n",
       "      <th>1</th>\n",
       "      <td>50</td>\n",
       "      <td>Self-emp-not-inc</td>\n",
       "      <td>83311</td>\n",
       "      <td>Bachelors</td>\n",
       "      <td>13</td>\n",
       "      <td>Married-civ-spouse</td>\n",
       "      <td>Exec-managerial</td>\n",
       "      <td>Husband</td>\n",
       "      <td>White</td>\n",
       "      <td>Male</td>\n",
       "      <td>0</td>\n",
       "      <td>0</td>\n",
       "      <td>13</td>\n",
       "      <td>United-States</td>\n",
       "    </tr>\n",
       "  </tbody>\n",
       "</table>\n",
       "</div>"
      ],
      "text/plain": [
       "   age          Workclass  fnlwgt   education  education-num  \\\n",
       "0   39          State-gov   77516   Bachelors             13   \n",
       "1   50   Self-emp-not-inc   83311   Bachelors             13   \n",
       "\n",
       "        marital-status        occupation    relationship    race    sex  \\\n",
       "0        Never-married      Adm-clerical   Not-in-family   White   Male   \n",
       "1   Married-civ-spouse   Exec-managerial         Husband   White   Male   \n",
       "\n",
       "   capital-gain  capital-loss  hours-per-week  native-country  \n",
       "0          2174             0              40   United-States  \n",
       "1             0             0              13   United-States  "
      ]
     },
     "execution_count": 16,
     "metadata": {},
     "output_type": "execute_result"
    }
   ],
   "source": [
    "feature.head(2)"
   ]
  },
  {
   "cell_type": "code",
   "execution_count": 17,
   "id": "a446c076",
   "metadata": {},
   "outputs": [
    {
     "data": {
      "text/plain": [
       "0    0\n",
       "1    0\n",
       "Name: Income, dtype: int64"
      ]
     },
     "execution_count": 17,
     "metadata": {},
     "output_type": "execute_result"
    }
   ],
   "source": [
    "target.head(2)"
   ]
  },
  {
   "cell_type": "markdown",
   "id": "55f53ab1",
   "metadata": {},
   "source": [
    "<h2> Finding Numerical datatype </h2>"
   ]
  },
  {
   "cell_type": "code",
   "execution_count": 18,
   "id": "58b582f8",
   "metadata": {},
   "outputs": [],
   "source": [
    "numerical= feature.select_dtypes(['int64']).columns"
   ]
  },
  {
   "cell_type": "code",
   "execution_count": 19,
   "id": "4450739c",
   "metadata": {},
   "outputs": [
    {
     "data": {
      "text/plain": [
       "array(['age', 'capital-gain', 'capital-loss', 'education-num', 'fnlwgt',\n",
       "       'hours-per-week'], dtype=object)"
      ]
     },
     "execution_count": 19,
     "metadata": {},
     "output_type": "execute_result"
    }
   ],
   "source": [
    "np.unique(numerical.values)"
   ]
  },
  {
   "cell_type": "code",
   "execution_count": 20,
   "id": "d42c7f2e",
   "metadata": {},
   "outputs": [
    {
     "name": "stdout",
     "output_type": "stream",
     "text": [
      "age: 65\n",
      "fnlwgt: 1014\n",
      "education-num: 16\n",
      "capital-gain: 33\n",
      "capital-loss: 31\n",
      "hours-per-week: 54\n"
     ]
    }
   ],
   "source": [
    "for i in numerical:\n",
    "    print(f\"{i}: {len(feature[i].unique())}\")"
   ]
  },
  {
   "cell_type": "code",
   "execution_count": 21,
   "id": "92b2e2cb",
   "metadata": {},
   "outputs": [
    {
     "data": {
      "text/plain": [
       "array([13,  9,  7, 14,  5, 10, 12,  4, 16, 11, 15,  3,  6,  1,  8,  2],\n",
       "      dtype=int64)"
      ]
     },
     "execution_count": 21,
     "metadata": {},
     "output_type": "execute_result"
    }
   ],
   "source": [
    "# this is Discrete data\n",
    "\n",
    "df['education-num'].unique()"
   ]
  },
  {
   "cell_type": "raw",
   "id": "74beb78e",
   "metadata": {},
   "source": [
    "below mentioned columns are Continous data\n",
    "\n",
    "Age\n",
    "fnlwgt\n",
    "capital-gain\n",
    "capital-loss\n",
    "hours-per-week\n"
   ]
  },
  {
   "cell_type": "raw",
   "id": "545e4367",
   "metadata": {},
   "source": [
    "age: 65\n",
    "fnlwgt: 1014\n",
    "education-num: 16\n",
    "capital-gain: 33\n",
    "capital-loss: 31\n",
    "hours-per-week: 54\n",
    "Income: 2"
   ]
  },
  {
   "cell_type": "code",
   "execution_count": 22,
   "id": "d748c1a8",
   "metadata": {},
   "outputs": [
    {
     "data": {
      "text/plain": [
       "array([' Adm-clerical', ' Exec-managerial', ' Handlers-cleaners',\n",
       "       ' Prof-specialty', ' Other-service', ' Sales', ' Transport-moving',\n",
       "       ' Farming-fishing', ' Machine-op-inspct', ' Tech-support',\n",
       "       ' Craft-repair', ' Protective-serv', ' Armed-Forces',\n",
       "       ' Priv-house-serv'], dtype=object)"
      ]
     },
     "execution_count": 22,
     "metadata": {},
     "output_type": "execute_result"
    }
   ],
   "source": [
    "df['occupation'].unique()"
   ]
  },
  {
   "cell_type": "markdown",
   "id": "bf9bb8e7",
   "metadata": {},
   "source": [
    "# <h2> Skewness </h2>"
   ]
  },
  {
   "cell_type": "code",
   "execution_count": 23,
   "id": "59fbb8bc",
   "metadata": {},
   "outputs": [],
   "source": [
    "from scipy.stats import skew"
   ]
  },
  {
   "cell_type": "code",
   "execution_count": 24,
   "id": "feaee647",
   "metadata": {},
   "outputs": [
    {
     "name": "stdout",
     "output_type": "stream",
     "text": [
      "age\n",
      "0.6160534414050984\n"
     ]
    },
    {
     "data": {
      "image/png": "[encoded data removed]",
      "text/plain": [
       "<Figure size 432x288 with 1 Axes>"
      ]
     },
     "metadata": {
      "needs_background": "light"
     },
     "output_type": "display_data"
    },
    {
     "name": "stdout",
     "output_type": "stream",
     "text": [
      "fnlwgt\n",
      "1.3937557919747436\n"
     ]
    },
    {
     "data": {
      "image/png": "[encoded data removed]",
      "text/plain": [
       "<Figure size 432x288 with 1 Axes>"
      ]
     },
     "metadata": {
      "needs_background": "light"
     },
     "output_type": "display_data"
    },
    {
     "name": "stdout",
     "output_type": "stream",
     "text": [
      "education-num\n",
      "-0.30220179407263364\n"
     ]
    },
    {
     "data": {
      "image/png": "[encoded data removed]",
      "text/plain": [
       "<Figure size 432x288 with 1 Axes>"
      ]
     },
     "metadata": {
      "needs_background": "light"
     },
     "output_type": "display_data"
    },
    {
     "name": "stdout",
     "output_type": "stream",
     "text": [
      "capital-gain\n",
      "5.409818233508558\n"
     ]
    },
    {
     "data": {
      "image/png": "[encoded data removed]",
      "text/plain": [
       "<Figure size 432x288 with 1 Axes>"
      ]
     },
     "metadata": {
      "needs_background": "light"
     },
     "output_type": "display_data"
    },
    {
     "name": "stdout",
     "output_type": "stream",
     "text": [
      "capital-loss\n",
      "4.071696903313479\n"
     ]
    },
    {
     "data": {
      "image/png": "[encoded data removed]",
      "text/plain": [
       "<Figure size 432x288 with 1 Axes>"
      ]
     },
     "metadata": {
      "needs_background": "light"
     },
     "output_type": "display_data"
    },
    {
     "name": "stdout",
     "output_type": "stream",
     "text": [
      "hours-per-week\n",
      "0.16318627165535773\n"
     ]
    },
    {
     "data": {
      "image/png": "[encoded data removed]",
      "text/plain": [
       "<Figure size 432x288 with 1 Axes>"
      ]
     },
     "metadata": {
      "needs_background": "light"
     },
     "output_type": "display_data"
    }
   ],
   "source": [
    "for col in  feature[numerical]:\n",
    "    print(col)\n",
    "    print(skew(feature[col]))\n",
    "    \n",
    "    plt.figure()\n",
    "    sns.distplot(feature[col])\n",
    "    plt.show()"
   ]
  },
  {
   "cell_type": "raw",
   "id": "ecc14c68",
   "metadata": {},
   "source": [
    "Age: 0.61\n",
    "fnlwgt: 1.39\n",
    "education-num: -0.30\n",
    "capital-gain : 5.409\n",
    "capital-loss : 4.07\n",
    "hours-per-week : 0.16\n",
    "\n",
    "    Now check above skewed value is how much far from 0:\n",
    "        Age is far from 0 so has moderate skewness\n",
    "        fnlwgt is too far from 0 has high skewness\n",
    "        education-num is disctre data, so no need to check\n",
    "        capital-gain too far from 0 has high skewness, there are 951 rows having 0 value, so if we will apply log(0) it will\n",
    "                      return '-inf'. final output will be undefined. So we will remove skewness\n",
    "        capital-loss too far from 0 has high skewness, there are 975 rows having 0 value, so if we will apply log(0) it will\n",
    "                      return '-inf'. final output will be undefined. So we will remove skewness\n",
    "        hours-per week  is closer to the 0 so very less skewness\n",
    "        \n",
    "        So there are only two column (age, fnlwgt) where we will have to remove skewness\n",
    "\n"
   ]
  },
  {
   "cell_type": "code",
   "execution_count": 25,
   "id": "91c180c7",
   "metadata": {},
   "outputs": [
    {
     "data": {
      "text/plain": [
       "-inf"
      ]
     },
     "execution_count": 25,
     "metadata": {},
     "output_type": "execute_result"
    }
   ],
   "source": [
    "np.log(0)"
   ]
  },
  {
   "cell_type": "code",
   "execution_count": 26,
   "id": "fcf145c0",
   "metadata": {},
   "outputs": [
    {
     "data": {
      "text/plain": [
       "array([-1.        , -0.89473684, -0.78947368, -0.68421053, -0.57894737,\n",
       "       -0.47368421, -0.36842105, -0.26315789, -0.15789474, -0.05263158,\n",
       "        0.05263158,  0.15789474,  0.26315789,  0.36842105,  0.47368421,\n",
       "        0.57894737,  0.68421053,  0.78947368,  0.89473684,  1.        ])"
      ]
     },
     "execution_count": 26,
     "metadata": {},
     "output_type": "execute_result"
    }
   ],
   "source": [
    "np.linspace(-1,1,20)"
   ]
  },
  {
   "cell_type": "code",
   "execution_count": 27,
   "id": "beaf597c",
   "metadata": {},
   "outputs": [
    {
     "data": {
      "text/plain": [
       "array([ 77516,  83311, 215646, ..., 227644, 205267, 288020], dtype=int64)"
      ]
     },
     "execution_count": 27,
     "metadata": {},
     "output_type": "execute_result"
    }
   ],
   "source": [
    "df['fnlwgt'].unique()"
   ]
  },
  {
   "cell_type": "code",
   "execution_count": 28,
   "id": "0a71afb7",
   "metadata": {},
   "outputs": [
    {
     "data": {
      "text/plain": [
       "fnlwgt           -0.009615\n",
       "capital-loss      0.144675\n",
       "age               0.238756\n",
       "hours-per-week    0.240963\n",
       "capital-gain      0.317856\n",
       "education-num     0.336148\n",
       "Income            1.000000\n",
       "Name: Income, dtype: float64"
      ]
     },
     "execution_count": 28,
     "metadata": {},
     "output_type": "execute_result"
    }
   ],
   "source": [
    "pd.concat([feature,target], axis=1).corr()['Income'].sort_values()"
   ]
  },
  {
   "cell_type": "raw",
   "id": "4453b21f",
   "metadata": {},
   "source": [
    "In Machine Learning we require good correlation of independent variable with dependent target.\n",
    "If there is good correlation with target, so we will not remove Skewness. if we remove skewness then the correlation will change.\n",
    "If there is no good correlation with target, then we will have to remove Skewness an improve correlation with target.\n",
    "\n",
    "as per above distplot remarks, we will not be removing skewness in capital-loss and capital-gain from dataset bcaze it has more number of value is 0 and log(0) would be -inf/undefined.\n",
    "\n",
    "Here there are two columns (age, fnlwgt) where we will have to remove skewness using log transformation.\n"
   ]
  },
  {
   "cell_type": "code",
   "execution_count": 29,
   "id": "540cebdb",
   "metadata": {},
   "outputs": [],
   "source": [
    "#feature['capital-gain'].unique()"
   ]
  },
  {
   "cell_type": "code",
   "execution_count": 30,
   "id": "d43ec0fb",
   "metadata": {},
   "outputs": [],
   "source": [
    "#feature['capital-gain'].value_counts()"
   ]
  },
  {
   "cell_type": "markdown",
   "id": "37fcace4",
   "metadata": {},
   "source": [
    "<h2> Remove Skewness </h2>"
   ]
  },
  {
   "cell_type": "code",
   "execution_count": 31,
   "id": "238df9f0",
   "metadata": {},
   "outputs": [
    {
     "data": {
      "text/plain": [
       "-0.7760135687863778"
      ]
     },
     "execution_count": 31,
     "metadata": {},
     "output_type": "execute_result"
    }
   ],
   "source": [
    "\n",
    "feature['fnlwgt']= np.log(feature['fnlwgt'])\n",
    "skew(feature['fnlwgt'])"
   ]
  },
  {
   "cell_type": "code",
   "execution_count": 32,
   "id": "8b9fb067",
   "metadata": {},
   "outputs": [
    {
     "data": {
      "text/plain": [
       "-0.14911720846420032"
      ]
     },
     "execution_count": 32,
     "metadata": {},
     "output_type": "execute_result"
    }
   ],
   "source": [
    "\n",
    "feature['age']= np.log(feature['age'])\n",
    "skew(feature['age'])\n"
   ]
  },
  {
   "cell_type": "code",
   "execution_count": 33,
   "id": "4b43eecd",
   "metadata": {},
   "outputs": [],
   "source": [
    "# feature.drop(['capital-gain', 'capital-loss'], axis=1, inplace= True)  # do not drop"
   ]
  },
  {
   "cell_type": "code",
   "execution_count": 34,
   "id": "6b92cc3f",
   "metadata": {},
   "outputs": [
    {
     "data": {
      "text/html": [
       "<div>\n",
       "<style scoped>\n",
       "    .dataframe tbody tr th:only-of-type {\n",
       "        vertical-align: middle;\n",
       "    }\n",
       "\n",
       "    .dataframe tbody tr th {\n",
       "        vertical-align: top;\n",
       "    }\n",
       "\n",
       "    .dataframe thead th {\n",
       "        text-align: right;\n",
       "    }\n",
       "</style>\n",
       "<table border=\"1\" class=\"dataframe\">\n",
       "  <thead>\n",
       "    <tr style=\"text-align: right;\">\n",
       "      <th></th>\n",
       "      <th>age</th>\n",
       "      <th>Workclass</th>\n",
       "      <th>fnlwgt</th>\n",
       "      <th>education</th>\n",
       "      <th>education-num</th>\n",
       "      <th>marital-status</th>\n",
       "      <th>occupation</th>\n",
       "      <th>relationship</th>\n",
       "      <th>race</th>\n",
       "      <th>sex</th>\n",
       "      <th>capital-gain</th>\n",
       "      <th>capital-loss</th>\n",
       "      <th>hours-per-week</th>\n",
       "      <th>native-country</th>\n",
       "    </tr>\n",
       "  </thead>\n",
       "  <tbody>\n",
       "    <tr>\n",
       "      <th>0</th>\n",
       "      <td>3.663562</td>\n",
       "      <td>State-gov</td>\n",
       "      <td>11.258240</td>\n",
       "      <td>Bachelors</td>\n",
       "      <td>13</td>\n",
       "      <td>Never-married</td>\n",
       "      <td>Adm-clerical</td>\n",
       "      <td>Not-in-family</td>\n",
       "      <td>White</td>\n",
       "      <td>Male</td>\n",
       "      <td>2174</td>\n",
       "      <td>0</td>\n",
       "      <td>40</td>\n",
       "      <td>United-States</td>\n",
       "    </tr>\n",
       "    <tr>\n",
       "      <th>1</th>\n",
       "      <td>3.912023</td>\n",
       "      <td>Self-emp-not-inc</td>\n",
       "      <td>11.330336</td>\n",
       "      <td>Bachelors</td>\n",
       "      <td>13</td>\n",
       "      <td>Married-civ-spouse</td>\n",
       "      <td>Exec-managerial</td>\n",
       "      <td>Husband</td>\n",
       "      <td>White</td>\n",
       "      <td>Male</td>\n",
       "      <td>0</td>\n",
       "      <td>0</td>\n",
       "      <td>13</td>\n",
       "      <td>United-States</td>\n",
       "    </tr>\n",
       "  </tbody>\n",
       "</table>\n",
       "</div>"
      ],
      "text/plain": [
       "        age          Workclass     fnlwgt   education  education-num  \\\n",
       "0  3.663562          State-gov  11.258240   Bachelors             13   \n",
       "1  3.912023   Self-emp-not-inc  11.330336   Bachelors             13   \n",
       "\n",
       "        marital-status        occupation    relationship    race    sex  \\\n",
       "0        Never-married      Adm-clerical   Not-in-family   White   Male   \n",
       "1   Married-civ-spouse   Exec-managerial         Husband   White   Male   \n",
       "\n",
       "   capital-gain  capital-loss  hours-per-week  native-country  \n",
       "0          2174             0              40   United-States  \n",
       "1             0             0              13   United-States  "
      ]
     },
     "execution_count": 34,
     "metadata": {},
     "output_type": "execute_result"
    }
   ],
   "source": [
    "feature.head(2)"
   ]
  },
  {
   "cell_type": "code",
   "execution_count": 35,
   "id": "7960e54d",
   "metadata": {},
   "outputs": [
    {
     "data": {
      "text/plain": [
       "Index(['age', 'fnlwgt', 'education-num', 'capital-gain', 'capital-loss',\n",
       "       'hours-per-week'],\n",
       "      dtype='object')"
      ]
     },
     "execution_count": 35,
     "metadata": {},
     "output_type": "execute_result"
    }
   ],
   "source": [
    "num= feature.select_dtypes(['int64','float64']).columns\n",
    "num\n"
   ]
  },
  {
   "cell_type": "code",
   "execution_count": 36,
   "id": "96d16270",
   "metadata": {},
   "outputs": [
    {
     "name": "stdout",
     "output_type": "stream",
     "text": [
      "age\n",
      "-0.14911720846420032\n"
     ]
    },
    {
     "data": {
      "image/png": "[encoded data removed]",
      "text/plain": [
       "<Figure size 432x288 with 1 Axes>"
      ]
     },
     "metadata": {
      "needs_background": "light"
     },
     "output_type": "display_data"
    },
    {
     "name": "stdout",
     "output_type": "stream",
     "text": [
      "fnlwgt\n",
      "-0.7760135687863778\n"
     ]
    },
    {
     "data": {
      "image/png": "[encoded data removed]",
      "text/plain": [
       "<Figure size 432x288 with 1 Axes>"
      ]
     },
     "metadata": {
      "needs_background": "light"
     },
     "output_type": "display_data"
    },
    {
     "name": "stdout",
     "output_type": "stream",
     "text": [
      "education-num\n",
      "-0.30220179407263364\n"
     ]
    },
    {
     "data": {
      "image/png": "[encoded data removed]",
      "text/plain": [
       "<Figure size 432x288 with 1 Axes>"
      ]
     },
     "metadata": {
      "needs_background": "light"
     },
     "output_type": "display_data"
    },
    {
     "name": "stdout",
     "output_type": "stream",
     "text": [
      "capital-gain\n",
      "5.409818233508558\n"
     ]
    },
    {
     "data": {
      "image/png": "[encoded data removed]",
      "text/plain": [
       "<Figure size 432x288 with 1 Axes>"
      ]
     },
     "metadata": {
      "needs_background": "light"
     },
     "output_type": "display_data"
    },
    {
     "name": "stdout",
     "output_type": "stream",
     "text": [
      "capital-loss\n",
      "4.071696903313479\n"
     ]
    },
    {
     "data": {
      "image/png": "[encoded data removed]",
      "text/plain": [
       "<Figure size 432x288 with 1 Axes>"
      ]
     },
     "metadata": {
      "needs_background": "light"
     },
     "output_type": "display_data"
    },
    {
     "name": "stdout",
     "output_type": "stream",
     "text": [
      "hours-per-week\n",
      "0.16318627165535773\n"
     ]
    },
    {
     "data": {
      "image/png": "[encoded data removed]",
      "text/plain": [
       "<Figure size 432x288 with 1 Axes>"
      ]
     },
     "metadata": {
      "needs_background": "light"
     },
     "output_type": "display_data"
    }
   ],
   "source": [
    "\n",
    "for col in  feature[num]:\n",
    "    print(col)\n",
    "    print(skew(feature[col]))\n",
    "    \n",
    "    plt.figure()\n",
    "    sns.distplot(feature[col])\n",
    "    plt.show()\n",
    "\n",
    "    "
   ]
  },
  {
   "cell_type": "markdown",
   "id": "1df6c0cb",
   "metadata": {},
   "source": [
    "So skewness has been remove except capital-gain & capital-loss column"
   ]
  },
  {
   "cell_type": "markdown",
   "id": "5c095965",
   "metadata": {},
   "source": [
    "<h2> Finding Object from dataset </h2>"
   ]
  },
  {
   "cell_type": "code",
   "execution_count": 37,
   "id": "b2900176",
   "metadata": {},
   "outputs": [
    {
     "data": {
      "text/plain": [
       "Index(['Workclass', 'education', 'marital-status', 'occupation',\n",
       "       'relationship', 'race', 'sex', 'native-country'],\n",
       "      dtype='object')"
      ]
     },
     "execution_count": 37,
     "metadata": {},
     "output_type": "execute_result"
    }
   ],
   "source": [
    "obj=feature.select_dtypes([\"object\"]).columns\n",
    "obj"
   ]
  },
  {
   "cell_type": "code",
   "execution_count": 38,
   "id": "9840d856",
   "metadata": {},
   "outputs": [
    {
     "name": "stdout",
     "output_type": "stream",
     "text": [
      "Workclass: 6\n",
      "education: 16\n",
      "marital-status: 7\n",
      "occupation: 14\n",
      "relationship: 6\n",
      "race: 5\n",
      "sex: 2\n",
      "native-country: 30\n"
     ]
    }
   ],
   "source": [
    "for i in obj:\n",
    "    print(f\"{i}: {len(feature[i].unique())}\")"
   ]
  },
  {
   "cell_type": "code",
   "execution_count": 39,
   "id": "571f078a",
   "metadata": {},
   "outputs": [
    {
     "name": "stdout",
     "output_type": "stream",
     "text": [
      " Private             766\n",
      " Self-emp-not-inc     90\n",
      " Local-gov            76\n",
      " State-gov            40\n",
      " Self-emp-inc         38\n",
      " Federal-gov          22\n",
      "Name: Workclass, dtype: int64\n",
      "\n",
      " \n",
      "\n",
      " HS-grad         338\n",
      " Some-college    225\n",
      " Bachelors       184\n",
      " Masters          56\n",
      " Assoc-voc        50\n",
      " 11th             39\n",
      " Assoc-acdm       37\n",
      " 10th             19\n",
      " Doctorate        17\n",
      " 9th              16\n",
      " 7th-8th          14\n",
      " Prof-school      12\n",
      " 5th-6th          10\n",
      " 12th              9\n",
      " 1st-4th           4\n",
      " Preschool         2\n",
      "Name: education, dtype: int64\n",
      "\n",
      " \n",
      "\n",
      " Married-civ-spouse       472\n",
      " Never-married            345\n",
      " Divorced                 142\n",
      " Separated                 30\n",
      " Widowed                   28\n",
      " Married-spouse-absent     14\n",
      " Married-AF-spouse          1\n",
      "Name: marital-status, dtype: int64\n",
      "\n",
      " \n",
      "\n",
      " Prof-specialty       143\n",
      " Craft-repair         136\n",
      " Exec-managerial      131\n",
      " Sales                126\n",
      " Other-service        119\n",
      " Adm-clerical         101\n",
      " Machine-op-inspct     70\n",
      " Transport-moving      58\n",
      " Tech-support          47\n",
      " Handlers-cleaners     46\n",
      " Farming-fishing       32\n",
      " Protective-serv       18\n",
      " Priv-house-serv        4\n",
      " Armed-Forces           1\n",
      "Name: occupation, dtype: int64\n",
      "\n",
      " \n",
      "\n",
      " Husband           401\n",
      " Not-in-family     290\n",
      " Own-child         148\n",
      " Unmarried         107\n",
      " Wife               66\n",
      " Other-relative     20\n",
      "Name: relationship, dtype: int64\n",
      "\n",
      " \n",
      "\n",
      " White                 886\n",
      " Black                 107\n",
      " Asian-Pac-Islander     26\n",
      " Amer-Indian-Eskimo      7\n",
      " Other                   6\n",
      "Name: race, dtype: int64\n",
      "\n",
      " \n",
      "\n",
      " Male      701\n",
      " Female    331\n",
      "Name: sex, dtype: int64\n",
      "\n",
      " \n",
      "\n",
      " United-States         943\n",
      " Mexico                 23\n",
      " India                   5\n",
      " Germany                 4\n",
      " Portugal                4\n",
      " Cuba                    4\n",
      " Iran                    4\n",
      " Philippines             4\n",
      " Puerto-Rico             4\n",
      " Canada                  3\n",
      " England                 3\n",
      " Poland                  3\n",
      " Taiwan                  3\n",
      " Honduras                2\n",
      " Guatemala               2\n",
      " Japan                   2\n",
      " China                   2\n",
      " Haiti                   2\n",
      " Jamaica                 2\n",
      " Dominican-Republic      2\n",
      " El-Salvador             2\n",
      " South                   1\n",
      " Italy                   1\n",
      " Thailand                1\n",
      " France                  1\n",
      " Laos                    1\n",
      " Ecuador                 1\n",
      " Cambodia                1\n",
      " Columbia                1\n",
      " Yugoslavia              1\n",
      "Name: native-country, dtype: int64\n",
      "\n",
      " \n",
      "\n"
     ]
    }
   ],
   "source": [
    "for i in obj:\n",
    "    print(feature[i].value_counts())\n",
    "    print(\"\\n \\n\")"
   ]
  },
  {
   "cell_type": "markdown",
   "id": "1f5ecbe8",
   "metadata": {},
   "source": [
    "# <h3> Category </h3>"
   ]
  },
  {
   "cell_type": "code",
   "execution_count": 40,
   "id": "bc049fe4",
   "metadata": {},
   "outputs": [],
   "source": [
    "# Education Category\n",
    "\n",
    "feature['education'].replace(['1st-4th','5th-6th','7th-8th','9th','10th','11th','12th','Preschool'],'School',inplace =True, regex= True)\n",
    "feature['education'].replace(['Assoc-voc','Assoc-acdm','Prof-school','Some-college'],'Higher',inplace =True, regex= True)\n",
    "\n"
   ]
  },
  {
   "cell_type": "code",
   "execution_count": 41,
   "id": "b2bafaf3",
   "metadata": {},
   "outputs": [],
   "source": [
    "# marital Status\n",
    "\n",
    "feature['marital-status'].replace(['Married-civ-spouse','Married-AF-spouse'],'Married', inplace=True, regex= True)\n",
    "feature['marital-status'].replace(['Divorced','Separated','Widowed','Married-spouse-absent'],'Other', inplace=True, regex= True)"
   ]
  },
  {
   "cell_type": "code",
   "execution_count": 42,
   "id": "04df3016",
   "metadata": {},
   "outputs": [
    {
     "data": {
      "text/plain": [
       "array([' United-States', ' Cuba', ' Jamaica', ' India', ' Mexico',\n",
       "       ' Puerto-Rico', ' Honduras', ' England', ' Canada', ' Germany',\n",
       "       ' Iran', ' Philippines', ' Poland', ' Columbia', ' Cambodia',\n",
       "       ' Thailand', ' Ecuador', ' Laos', ' Taiwan', ' Haiti', ' Portugal',\n",
       "       ' Dominican-Republic', ' El-Salvador', ' France', ' Guatemala',\n",
       "       ' Italy', ' China', ' South', ' Japan', ' Yugoslavia'],\n",
       "      dtype=object)"
      ]
     },
     "execution_count": 42,
     "metadata": {},
     "output_type": "execute_result"
    }
   ],
   "source": [
    "feature['native-country'].unique()"
   ]
  },
  {
   "cell_type": "code",
   "execution_count": 43,
   "id": "0bc8dc9b",
   "metadata": {},
   "outputs": [],
   "source": [
    "#Country category\n",
    "feature['native-country'].replace([' Cuba', ' Jamaica', ' Puerto-Rico', ' Honduras', ' England', ' Canada', ' Germany',' Iran', ' Philippines', ' Poland', ' Columbia', ' Cambodia',' Thailand', ' Ecuador', ' Laos', ' Taiwan', ' Haiti', ' Portugal',' Dominican-Republic', ' El-Salvador', ' France', ' Guatemala',' Italy', ' China', ' South', ' Japan', ' Yugoslavia'],' Other', inplace=True, regex=True)"
   ]
  },
  {
   "cell_type": "code",
   "execution_count": 44,
   "id": "ec62ff3d",
   "metadata": {
    "scrolled": true
   },
   "outputs": [
    {
     "name": "stdout",
     "output_type": "stream",
     "text": [
      " Private             766\n",
      " Self-emp-not-inc     90\n",
      " Local-gov            76\n",
      " State-gov            40\n",
      " Self-emp-inc         38\n",
      " Federal-gov          22\n",
      "Name: Workclass, dtype: int64\n",
      "\n",
      " \n",
      "\n",
      " HS-grad      338\n",
      " Higher       324\n",
      " Bachelors    184\n",
      " School       113\n",
      " Masters       56\n",
      " Doctorate     17\n",
      "Name: education, dtype: int64\n",
      "\n",
      " \n",
      "\n",
      " Married          473\n",
      " Never-married    345\n",
      " Other            214\n",
      "Name: marital-status, dtype: int64\n",
      "\n",
      " \n",
      "\n",
      " Prof-specialty       143\n",
      " Craft-repair         136\n",
      " Exec-managerial      131\n",
      " Sales                126\n",
      " Other-service        119\n",
      " Adm-clerical         101\n",
      " Machine-op-inspct     70\n",
      " Transport-moving      58\n",
      " Tech-support          47\n",
      " Handlers-cleaners     46\n",
      " Farming-fishing       32\n",
      " Protective-serv       18\n",
      " Priv-house-serv        4\n",
      " Armed-Forces           1\n",
      "Name: occupation, dtype: int64\n",
      "\n",
      " \n",
      "\n",
      " Husband           401\n",
      " Not-in-family     290\n",
      " Own-child         148\n",
      " Unmarried         107\n",
      " Wife               66\n",
      " Other-relative     20\n",
      "Name: relationship, dtype: int64\n",
      "\n",
      " \n",
      "\n",
      " White                 886\n",
      " Black                 107\n",
      " Asian-Pac-Islander     26\n",
      " Amer-Indian-Eskimo      7\n",
      " Other                   6\n",
      "Name: race, dtype: int64\n",
      "\n",
      " \n",
      "\n",
      " Male      701\n",
      " Female    331\n",
      "Name: sex, dtype: int64\n",
      "\n",
      " \n",
      "\n",
      " United-States    943\n",
      " Other             61\n",
      " Mexico            23\n",
      " India              5\n",
      "Name: native-country, dtype: int64\n",
      "\n",
      " \n",
      "\n"
     ]
    }
   ],
   "source": [
    "for i in obj:\n",
    "    print(feature[i].value_counts())\n",
    "    print(\"\\n \\n\")"
   ]
  },
  {
   "cell_type": "code",
   "execution_count": 45,
   "id": "ed0bb814",
   "metadata": {
    "scrolled": true
   },
   "outputs": [
    {
     "data": {
      "text/html": [
       "<div>\n",
       "<style scoped>\n",
       "    .dataframe tbody tr th:only-of-type {\n",
       "        vertical-align: middle;\n",
       "    }\n",
       "\n",
       "    .dataframe tbody tr th {\n",
       "        vertical-align: top;\n",
       "    }\n",
       "\n",
       "    .dataframe thead th {\n",
       "        text-align: right;\n",
       "    }\n",
       "</style>\n",
       "<table border=\"1\" class=\"dataframe\">\n",
       "  <thead>\n",
       "    <tr style=\"text-align: right;\">\n",
       "      <th></th>\n",
       "      <th>age</th>\n",
       "      <th>Workclass</th>\n",
       "      <th>fnlwgt</th>\n",
       "      <th>education</th>\n",
       "      <th>education-num</th>\n",
       "      <th>marital-status</th>\n",
       "      <th>occupation</th>\n",
       "      <th>relationship</th>\n",
       "      <th>race</th>\n",
       "      <th>sex</th>\n",
       "      <th>capital-gain</th>\n",
       "      <th>capital-loss</th>\n",
       "      <th>hours-per-week</th>\n",
       "      <th>native-country</th>\n",
       "    </tr>\n",
       "  </thead>\n",
       "  <tbody>\n",
       "    <tr>\n",
       "      <th>0</th>\n",
       "      <td>3.663562</td>\n",
       "      <td>State-gov</td>\n",
       "      <td>11.258240</td>\n",
       "      <td>Bachelors</td>\n",
       "      <td>13</td>\n",
       "      <td>Never-married</td>\n",
       "      <td>Adm-clerical</td>\n",
       "      <td>Not-in-family</td>\n",
       "      <td>White</td>\n",
       "      <td>Male</td>\n",
       "      <td>2174</td>\n",
       "      <td>0</td>\n",
       "      <td>40</td>\n",
       "      <td>United-States</td>\n",
       "    </tr>\n",
       "    <tr>\n",
       "      <th>1</th>\n",
       "      <td>3.912023</td>\n",
       "      <td>Self-emp-not-inc</td>\n",
       "      <td>11.330336</td>\n",
       "      <td>Bachelors</td>\n",
       "      <td>13</td>\n",
       "      <td>Married</td>\n",
       "      <td>Exec-managerial</td>\n",
       "      <td>Husband</td>\n",
       "      <td>White</td>\n",
       "      <td>Male</td>\n",
       "      <td>0</td>\n",
       "      <td>0</td>\n",
       "      <td>13</td>\n",
       "      <td>United-States</td>\n",
       "    </tr>\n",
       "    <tr>\n",
       "      <th>2</th>\n",
       "      <td>3.637586</td>\n",
       "      <td>Private</td>\n",
       "      <td>12.281393</td>\n",
       "      <td>HS-grad</td>\n",
       "      <td>9</td>\n",
       "      <td>Other</td>\n",
       "      <td>Handlers-cleaners</td>\n",
       "      <td>Not-in-family</td>\n",
       "      <td>White</td>\n",
       "      <td>Male</td>\n",
       "      <td>0</td>\n",
       "      <td>0</td>\n",
       "      <td>40</td>\n",
       "      <td>United-States</td>\n",
       "    </tr>\n",
       "    <tr>\n",
       "      <th>3</th>\n",
       "      <td>3.970292</td>\n",
       "      <td>Private</td>\n",
       "      <td>12.366153</td>\n",
       "      <td>School</td>\n",
       "      <td>7</td>\n",
       "      <td>Married</td>\n",
       "      <td>Handlers-cleaners</td>\n",
       "      <td>Husband</td>\n",
       "      <td>Black</td>\n",
       "      <td>Male</td>\n",
       "      <td>0</td>\n",
       "      <td>0</td>\n",
       "      <td>40</td>\n",
       "      <td>United-States</td>\n",
       "    </tr>\n",
       "    <tr>\n",
       "      <th>4</th>\n",
       "      <td>3.332205</td>\n",
       "      <td>Private</td>\n",
       "      <td>12.732011</td>\n",
       "      <td>Bachelors</td>\n",
       "      <td>13</td>\n",
       "      <td>Married</td>\n",
       "      <td>Prof-specialty</td>\n",
       "      <td>Wife</td>\n",
       "      <td>Black</td>\n",
       "      <td>Female</td>\n",
       "      <td>0</td>\n",
       "      <td>0</td>\n",
       "      <td>40</td>\n",
       "      <td>Other</td>\n",
       "    </tr>\n",
       "  </tbody>\n",
       "</table>\n",
       "</div>"
      ],
      "text/plain": [
       "        age          Workclass     fnlwgt   education  education-num  \\\n",
       "0  3.663562          State-gov  11.258240   Bachelors             13   \n",
       "1  3.912023   Self-emp-not-inc  11.330336   Bachelors             13   \n",
       "2  3.637586            Private  12.281393     HS-grad              9   \n",
       "3  3.970292            Private  12.366153      School              7   \n",
       "4  3.332205            Private  12.732011   Bachelors             13   \n",
       "\n",
       "   marital-status          occupation    relationship    race      sex  \\\n",
       "0   Never-married        Adm-clerical   Not-in-family   White     Male   \n",
       "1         Married     Exec-managerial         Husband   White     Male   \n",
       "2           Other   Handlers-cleaners   Not-in-family   White     Male   \n",
       "3         Married   Handlers-cleaners         Husband   Black     Male   \n",
       "4         Married      Prof-specialty            Wife   Black   Female   \n",
       "\n",
       "   capital-gain  capital-loss  hours-per-week  native-country  \n",
       "0          2174             0              40   United-States  \n",
       "1             0             0              13   United-States  \n",
       "2             0             0              40   United-States  \n",
       "3             0             0              40   United-States  \n",
       "4             0             0              40           Other  "
      ]
     },
     "execution_count": 45,
     "metadata": {},
     "output_type": "execute_result"
    }
   ],
   "source": [
    "feature.head()"
   ]
  },
  {
   "cell_type": "markdown",
   "id": "cbc43413",
   "metadata": {},
   "source": [
    "<h2> Assigning Encoder for categorical data for viewing purpose </h2>"
   ]
  },
  {
   "cell_type": "code",
   "execution_count": 46,
   "id": "d56ceae1",
   "metadata": {},
   "outputs": [
    {
     "data": {
      "text/plain": [
       "Index(['Workclass', 'education', 'marital-status', 'occupation',\n",
       "       'relationship', 'race', 'sex', 'native-country'],\n",
       "      dtype='object')"
      ]
     },
     "execution_count": 46,
     "metadata": {},
     "output_type": "execute_result"
    }
   ],
   "source": [
    "obj"
   ]
  },
  {
   "cell_type": "code",
   "execution_count": 47,
   "id": "0b0b7d5d",
   "metadata": {},
   "outputs": [],
   "source": [
    "newobj= ['work-num', 'Edu-Num','Marital-num', 'Occupatio-num','relatio-num','race-num','sex-num','country-num']"
   ]
  },
  {
   "cell_type": "code",
   "execution_count": 48,
   "id": "495a65c2",
   "metadata": {},
   "outputs": [],
   "source": [
    "from sklearn.preprocessing import OrdinalEncoder\n",
    "\n",
    "oe= OrdinalEncoder()\n",
    "\n",
    "feature[newobj]= oe.fit_transform(feature[obj])\n"
   ]
  },
  {
   "cell_type": "code",
   "execution_count": 49,
   "id": "57594e5d",
   "metadata": {
    "scrolled": true
   },
   "outputs": [
    {
     "data": {
      "text/html": [
       "<div>\n",
       "<style scoped>\n",
       "    .dataframe tbody tr th:only-of-type {\n",
       "        vertical-align: middle;\n",
       "    }\n",
       "\n",
       "    .dataframe tbody tr th {\n",
       "        vertical-align: top;\n",
       "    }\n",
       "\n",
       "    .dataframe thead th {\n",
       "        text-align: right;\n",
       "    }\n",
       "</style>\n",
       "<table border=\"1\" class=\"dataframe\">\n",
       "  <thead>\n",
       "    <tr style=\"text-align: right;\">\n",
       "      <th></th>\n",
       "      <th>age</th>\n",
       "      <th>Workclass</th>\n",
       "      <th>fnlwgt</th>\n",
       "      <th>education</th>\n",
       "      <th>education-num</th>\n",
       "      <th>marital-status</th>\n",
       "      <th>occupation</th>\n",
       "      <th>relationship</th>\n",
       "      <th>race</th>\n",
       "      <th>sex</th>\n",
       "      <th>...</th>\n",
       "      <th>hours-per-week</th>\n",
       "      <th>native-country</th>\n",
       "      <th>work-num</th>\n",
       "      <th>Edu-Num</th>\n",
       "      <th>Marital-num</th>\n",
       "      <th>Occupatio-num</th>\n",
       "      <th>relatio-num</th>\n",
       "      <th>race-num</th>\n",
       "      <th>sex-num</th>\n",
       "      <th>country-num</th>\n",
       "    </tr>\n",
       "  </thead>\n",
       "  <tbody>\n",
       "    <tr>\n",
       "      <th>0</th>\n",
       "      <td>3.663562</td>\n",
       "      <td>State-gov</td>\n",
       "      <td>11.258240</td>\n",
       "      <td>Bachelors</td>\n",
       "      <td>13</td>\n",
       "      <td>Never-married</td>\n",
       "      <td>Adm-clerical</td>\n",
       "      <td>Not-in-family</td>\n",
       "      <td>White</td>\n",
       "      <td>Male</td>\n",
       "      <td>...</td>\n",
       "      <td>40</td>\n",
       "      <td>United-States</td>\n",
       "      <td>5.0</td>\n",
       "      <td>0.0</td>\n",
       "      <td>1.0</td>\n",
       "      <td>0.0</td>\n",
       "      <td>1.0</td>\n",
       "      <td>4.0</td>\n",
       "      <td>1.0</td>\n",
       "      <td>3.0</td>\n",
       "    </tr>\n",
       "    <tr>\n",
       "      <th>1</th>\n",
       "      <td>3.912023</td>\n",
       "      <td>Self-emp-not-inc</td>\n",
       "      <td>11.330336</td>\n",
       "      <td>Bachelors</td>\n",
       "      <td>13</td>\n",
       "      <td>Married</td>\n",
       "      <td>Exec-managerial</td>\n",
       "      <td>Husband</td>\n",
       "      <td>White</td>\n",
       "      <td>Male</td>\n",
       "      <td>...</td>\n",
       "      <td>13</td>\n",
       "      <td>United-States</td>\n",
       "      <td>4.0</td>\n",
       "      <td>0.0</td>\n",
       "      <td>0.0</td>\n",
       "      <td>3.0</td>\n",
       "      <td>0.0</td>\n",
       "      <td>4.0</td>\n",
       "      <td>1.0</td>\n",
       "      <td>3.0</td>\n",
       "    </tr>\n",
       "    <tr>\n",
       "      <th>2</th>\n",
       "      <td>3.637586</td>\n",
       "      <td>Private</td>\n",
       "      <td>12.281393</td>\n",
       "      <td>HS-grad</td>\n",
       "      <td>9</td>\n",
       "      <td>Other</td>\n",
       "      <td>Handlers-cleaners</td>\n",
       "      <td>Not-in-family</td>\n",
       "      <td>White</td>\n",
       "      <td>Male</td>\n",
       "      <td>...</td>\n",
       "      <td>40</td>\n",
       "      <td>United-States</td>\n",
       "      <td>2.0</td>\n",
       "      <td>2.0</td>\n",
       "      <td>2.0</td>\n",
       "      <td>5.0</td>\n",
       "      <td>1.0</td>\n",
       "      <td>4.0</td>\n",
       "      <td>1.0</td>\n",
       "      <td>3.0</td>\n",
       "    </tr>\n",
       "    <tr>\n",
       "      <th>3</th>\n",
       "      <td>3.970292</td>\n",
       "      <td>Private</td>\n",
       "      <td>12.366153</td>\n",
       "      <td>School</td>\n",
       "      <td>7</td>\n",
       "      <td>Married</td>\n",
       "      <td>Handlers-cleaners</td>\n",
       "      <td>Husband</td>\n",
       "      <td>Black</td>\n",
       "      <td>Male</td>\n",
       "      <td>...</td>\n",
       "      <td>40</td>\n",
       "      <td>United-States</td>\n",
       "      <td>2.0</td>\n",
       "      <td>5.0</td>\n",
       "      <td>0.0</td>\n",
       "      <td>5.0</td>\n",
       "      <td>0.0</td>\n",
       "      <td>2.0</td>\n",
       "      <td>1.0</td>\n",
       "      <td>3.0</td>\n",
       "    </tr>\n",
       "    <tr>\n",
       "      <th>4</th>\n",
       "      <td>3.332205</td>\n",
       "      <td>Private</td>\n",
       "      <td>12.732011</td>\n",
       "      <td>Bachelors</td>\n",
       "      <td>13</td>\n",
       "      <td>Married</td>\n",
       "      <td>Prof-specialty</td>\n",
       "      <td>Wife</td>\n",
       "      <td>Black</td>\n",
       "      <td>Female</td>\n",
       "      <td>...</td>\n",
       "      <td>40</td>\n",
       "      <td>Other</td>\n",
       "      <td>2.0</td>\n",
       "      <td>0.0</td>\n",
       "      <td>0.0</td>\n",
       "      <td>9.0</td>\n",
       "      <td>5.0</td>\n",
       "      <td>2.0</td>\n",
       "      <td>0.0</td>\n",
       "      <td>2.0</td>\n",
       "    </tr>\n",
       "  </tbody>\n",
       "</table>\n",
       "<p>5 rows × 22 columns</p>\n",
       "</div>"
      ],
      "text/plain": [
       "        age          Workclass     fnlwgt   education  education-num  \\\n",
       "0  3.663562          State-gov  11.258240   Bachelors             13   \n",
       "1  3.912023   Self-emp-not-inc  11.330336   Bachelors             13   \n",
       "2  3.637586            Private  12.281393     HS-grad              9   \n",
       "3  3.970292            Private  12.366153      School              7   \n",
       "4  3.332205            Private  12.732011   Bachelors             13   \n",
       "\n",
       "   marital-status          occupation    relationship    race      sex  ...  \\\n",
       "0   Never-married        Adm-clerical   Not-in-family   White     Male  ...   \n",
       "1         Married     Exec-managerial         Husband   White     Male  ...   \n",
       "2           Other   Handlers-cleaners   Not-in-family   White     Male  ...   \n",
       "3         Married   Handlers-cleaners         Husband   Black     Male  ...   \n",
       "4         Married      Prof-specialty            Wife   Black   Female  ...   \n",
       "\n",
       "   hours-per-week  native-country  work-num Edu-Num  Marital-num  \\\n",
       "0              40   United-States       5.0     0.0          1.0   \n",
       "1              13   United-States       4.0     0.0          0.0   \n",
       "2              40   United-States       2.0     2.0          2.0   \n",
       "3              40   United-States       2.0     5.0          0.0   \n",
       "4              40           Other       2.0     0.0          0.0   \n",
       "\n",
       "   Occupatio-num  relatio-num  race-num  sex-num  country-num  \n",
       "0            0.0          1.0       4.0      1.0          3.0  \n",
       "1            3.0          0.0       4.0      1.0          3.0  \n",
       "2            5.0          1.0       4.0      1.0          3.0  \n",
       "3            5.0          0.0       2.0      1.0          3.0  \n",
       "4            9.0          5.0       2.0      0.0          2.0  \n",
       "\n",
       "[5 rows x 22 columns]"
      ]
     },
     "execution_count": 49,
     "metadata": {},
     "output_type": "execute_result"
    }
   ],
   "source": [
    "feature.head()"
   ]
  },
  {
   "cell_type": "code",
   "execution_count": 50,
   "id": "4acbba36",
   "metadata": {
    "scrolled": true
   },
   "outputs": [
    {
     "name": "stdout",
     "output_type": "stream",
     "text": [
      "Workclass          work-num\n",
      " Federal-gov       0.0         0.0\n",
      " Local-gov         1.0         1.0\n",
      " Private           2.0         2.0\n",
      " Self-emp-inc      3.0         3.0\n",
      " Self-emp-not-inc  4.0         4.0\n",
      " State-gov         5.0         5.0\n",
      "Name: work-num, dtype: float64\n",
      "\n",
      "\n",
      "\n",
      "education   Edu-Num\n",
      " Bachelors  0.0        0.0\n",
      " Doctorate  1.0        1.0\n",
      " HS-grad    2.0        2.0\n",
      " Higher     3.0        3.0\n",
      " Masters    4.0        4.0\n",
      " School     5.0        5.0\n",
      "Name: Edu-Num, dtype: float64\n",
      "\n",
      "\n",
      "\n",
      "marital-status  Marital-num\n",
      " Married        0.0            0.0\n",
      " Never-married  1.0            1.0\n",
      " Other          2.0            2.0\n",
      "Name: Marital-num, dtype: float64\n",
      "\n",
      "\n",
      "\n",
      "occupation          Occupatio-num\n",
      " Adm-clerical       0.0               0.0\n",
      " Armed-Forces       1.0               1.0\n",
      " Craft-repair       2.0               2.0\n",
      " Exec-managerial    3.0               3.0\n",
      " Farming-fishing    4.0               4.0\n",
      " Handlers-cleaners  5.0               5.0\n",
      " Machine-op-inspct  6.0               6.0\n",
      " Other-service      7.0               7.0\n",
      " Priv-house-serv    8.0               8.0\n",
      " Prof-specialty     9.0               9.0\n",
      " Protective-serv    10.0             10.0\n",
      " Sales              11.0             11.0\n",
      " Tech-support       12.0             12.0\n",
      " Transport-moving   13.0             13.0\n",
      "Name: Occupatio-num, dtype: float64\n",
      "\n",
      "\n",
      "\n",
      "relationship     relatio-num\n",
      " Husband         0.0            0.0\n",
      " Not-in-family   1.0            1.0\n",
      " Other-relative  2.0            2.0\n",
      " Own-child       3.0            3.0\n",
      " Unmarried       4.0            4.0\n",
      " Wife            5.0            5.0\n",
      "Name: relatio-num, dtype: float64\n",
      "\n",
      "\n",
      "\n",
      "race                 race-num\n",
      " Amer-Indian-Eskimo  0.0         0.0\n",
      " Asian-Pac-Islander  1.0         1.0\n",
      " Black               2.0         2.0\n",
      " Other               3.0         3.0\n",
      " White               4.0         4.0\n",
      "Name: race-num, dtype: float64\n",
      "\n",
      "\n",
      "\n",
      "sex      sex-num\n",
      " Female  0.0        0.0\n",
      " Male    1.0        1.0\n",
      "Name: sex-num, dtype: float64\n",
      "\n",
      "\n",
      "\n",
      "native-country  country-num\n",
      " India          0.0            0.0\n",
      " Mexico         1.0            1.0\n",
      " Other          2.0            2.0\n",
      " United-States  3.0            3.0\n",
      "Name: country-num, dtype: float64\n",
      "\n",
      "\n",
      "\n"
     ]
    }
   ],
   "source": [
    "print(feature.groupby(['Workclass','work-num'])['work-num'].mean())\n",
    "print(\"\\n\\n\")\n",
    "\n",
    "\n",
    "print(feature.groupby(['education','Edu-Num'])['Edu-Num'].mean())\n",
    "print(\"\\n\\n\")\n",
    "      \n",
    "\n",
    "print(feature.groupby(['marital-status','Marital-num'])['Marital-num'].mean())\n",
    "print(\"\\n\\n\")\n",
    "\n",
    "print(feature.groupby(['occupation','Occupatio-num'])['Occupatio-num'].mean())\n",
    "print(\"\\n\\n\")\n",
    "\n",
    "print(feature.groupby(['relationship','relatio-num'])['relatio-num'].mean())\n",
    "print(\"\\n\\n\")\n",
    "\n",
    "print(feature.groupby(['race','race-num'])['race-num'].mean())\n",
    "print(\"\\n\\n\")\n",
    "\n",
    "print(feature.groupby(['sex','sex-num'])['sex-num'].mean())\n",
    "print(\"\\n\\n\")\n",
    "\n",
    "print(feature.groupby(['native-country','country-num'])['country-num'].mean())\n",
    "print(\"\\n\\n\")\n",
    "\n"
   ]
  },
  {
   "cell_type": "markdown",
   "id": "a51b2133",
   "metadata": {},
   "source": [
    "<h2> Drop columns </h2>"
   ]
  },
  {
   "cell_type": "code",
   "execution_count": 51,
   "id": "8875c2b9",
   "metadata": {},
   "outputs": [
    {
     "data": {
      "text/plain": [
       "(1032, 22)"
      ]
     },
     "execution_count": 51,
     "metadata": {},
     "output_type": "execute_result"
    }
   ],
   "source": [
    "feature.shape"
   ]
  },
  {
   "cell_type": "code",
   "execution_count": 52,
   "id": "81e4e4e0",
   "metadata": {},
   "outputs": [],
   "source": [
    "newobj= ['work-num', 'Edu-Num','Marital-num', 'Occupatio-num','relatio-num','race-num','sex-num','country-num']"
   ]
  },
  {
   "cell_type": "code",
   "execution_count": 53,
   "id": "6f916b49",
   "metadata": {},
   "outputs": [],
   "source": [
    "feature= feature.drop(columns =(newobj))"
   ]
  },
  {
   "cell_type": "code",
   "execution_count": 54,
   "id": "e774378b",
   "metadata": {},
   "outputs": [],
   "source": [
    "feature= feature.drop(columns= ['fnlwgt','education-num'])"
   ]
  },
  {
   "cell_type": "code",
   "execution_count": 55,
   "id": "1ee2b1b5",
   "metadata": {
    "scrolled": false
   },
   "outputs": [
    {
     "data": {
      "text/html": [
       "<div>\n",
       "<style scoped>\n",
       "    .dataframe tbody tr th:only-of-type {\n",
       "        vertical-align: middle;\n",
       "    }\n",
       "\n",
       "    .dataframe tbody tr th {\n",
       "        vertical-align: top;\n",
       "    }\n",
       "\n",
       "    .dataframe thead th {\n",
       "        text-align: right;\n",
       "    }\n",
       "</style>\n",
       "<table border=\"1\" class=\"dataframe\">\n",
       "  <thead>\n",
       "    <tr style=\"text-align: right;\">\n",
       "      <th></th>\n",
       "      <th>age</th>\n",
       "      <th>Workclass</th>\n",
       "      <th>education</th>\n",
       "      <th>marital-status</th>\n",
       "      <th>occupation</th>\n",
       "      <th>relationship</th>\n",
       "      <th>race</th>\n",
       "      <th>sex</th>\n",
       "      <th>capital-gain</th>\n",
       "      <th>capital-loss</th>\n",
       "      <th>hours-per-week</th>\n",
       "      <th>native-country</th>\n",
       "    </tr>\n",
       "  </thead>\n",
       "  <tbody>\n",
       "    <tr>\n",
       "      <th>0</th>\n",
       "      <td>3.663562</td>\n",
       "      <td>State-gov</td>\n",
       "      <td>Bachelors</td>\n",
       "      <td>Never-married</td>\n",
       "      <td>Adm-clerical</td>\n",
       "      <td>Not-in-family</td>\n",
       "      <td>White</td>\n",
       "      <td>Male</td>\n",
       "      <td>2174</td>\n",
       "      <td>0</td>\n",
       "      <td>40</td>\n",
       "      <td>United-States</td>\n",
       "    </tr>\n",
       "    <tr>\n",
       "      <th>1</th>\n",
       "      <td>3.912023</td>\n",
       "      <td>Self-emp-not-inc</td>\n",
       "      <td>Bachelors</td>\n",
       "      <td>Married</td>\n",
       "      <td>Exec-managerial</td>\n",
       "      <td>Husband</td>\n",
       "      <td>White</td>\n",
       "      <td>Male</td>\n",
       "      <td>0</td>\n",
       "      <td>0</td>\n",
       "      <td>13</td>\n",
       "      <td>United-States</td>\n",
       "    </tr>\n",
       "    <tr>\n",
       "      <th>2</th>\n",
       "      <td>3.637586</td>\n",
       "      <td>Private</td>\n",
       "      <td>HS-grad</td>\n",
       "      <td>Other</td>\n",
       "      <td>Handlers-cleaners</td>\n",
       "      <td>Not-in-family</td>\n",
       "      <td>White</td>\n",
       "      <td>Male</td>\n",
       "      <td>0</td>\n",
       "      <td>0</td>\n",
       "      <td>40</td>\n",
       "      <td>United-States</td>\n",
       "    </tr>\n",
       "    <tr>\n",
       "      <th>3</th>\n",
       "      <td>3.970292</td>\n",
       "      <td>Private</td>\n",
       "      <td>School</td>\n",
       "      <td>Married</td>\n",
       "      <td>Handlers-cleaners</td>\n",
       "      <td>Husband</td>\n",
       "      <td>Black</td>\n",
       "      <td>Male</td>\n",
       "      <td>0</td>\n",
       "      <td>0</td>\n",
       "      <td>40</td>\n",
       "      <td>United-States</td>\n",
       "    </tr>\n",
       "    <tr>\n",
       "      <th>4</th>\n",
       "      <td>3.332205</td>\n",
       "      <td>Private</td>\n",
       "      <td>Bachelors</td>\n",
       "      <td>Married</td>\n",
       "      <td>Prof-specialty</td>\n",
       "      <td>Wife</td>\n",
       "      <td>Black</td>\n",
       "      <td>Female</td>\n",
       "      <td>0</td>\n",
       "      <td>0</td>\n",
       "      <td>40</td>\n",
       "      <td>Other</td>\n",
       "    </tr>\n",
       "  </tbody>\n",
       "</table>\n",
       "</div>"
      ],
      "text/plain": [
       "        age          Workclass   education  marital-status  \\\n",
       "0  3.663562          State-gov   Bachelors   Never-married   \n",
       "1  3.912023   Self-emp-not-inc   Bachelors         Married   \n",
       "2  3.637586            Private     HS-grad           Other   \n",
       "3  3.970292            Private      School         Married   \n",
       "4  3.332205            Private   Bachelors         Married   \n",
       "\n",
       "           occupation    relationship    race      sex  capital-gain  \\\n",
       "0        Adm-clerical   Not-in-family   White     Male          2174   \n",
       "1     Exec-managerial         Husband   White     Male             0   \n",
       "2   Handlers-cleaners   Not-in-family   White     Male             0   \n",
       "3   Handlers-cleaners         Husband   Black     Male             0   \n",
       "4      Prof-specialty            Wife   Black   Female             0   \n",
       "\n",
       "   capital-loss  hours-per-week  native-country  \n",
       "0             0              40   United-States  \n",
       "1             0              13   United-States  \n",
       "2             0              40   United-States  \n",
       "3             0              40   United-States  \n",
       "4             0              40           Other  "
      ]
     },
     "execution_count": 55,
     "metadata": {},
     "output_type": "execute_result"
    }
   ],
   "source": [
    "feature.head()"
   ]
  },
  {
   "cell_type": "markdown",
   "id": "79b86db8",
   "metadata": {},
   "source": [
    "<h2> Assigning the Encoder for base dataset </h2>"
   ]
  },
  {
   "cell_type": "code",
   "execution_count": 56,
   "id": "54274d10",
   "metadata": {},
   "outputs": [],
   "source": [
    "obj=feature.select_dtypes([\"object\"]).columns\n",
    "\n",
    "feature[obj]= oe.fit_transform(feature[obj])"
   ]
  },
  {
   "cell_type": "code",
   "execution_count": 57,
   "id": "9c51740a",
   "metadata": {},
   "outputs": [
    {
     "data": {
      "text/html": [
       "<div>\n",
       "<style scoped>\n",
       "    .dataframe tbody tr th:only-of-type {\n",
       "        vertical-align: middle;\n",
       "    }\n",
       "\n",
       "    .dataframe tbody tr th {\n",
       "        vertical-align: top;\n",
       "    }\n",
       "\n",
       "    .dataframe thead th {\n",
       "        text-align: right;\n",
       "    }\n",
       "</style>\n",
       "<table border=\"1\" class=\"dataframe\">\n",
       "  <thead>\n",
       "    <tr style=\"text-align: right;\">\n",
       "      <th></th>\n",
       "      <th>age</th>\n",
       "      <th>Workclass</th>\n",
       "      <th>education</th>\n",
       "      <th>marital-status</th>\n",
       "      <th>occupation</th>\n",
       "      <th>relationship</th>\n",
       "      <th>race</th>\n",
       "      <th>sex</th>\n",
       "      <th>capital-gain</th>\n",
       "      <th>capital-loss</th>\n",
       "      <th>hours-per-week</th>\n",
       "      <th>native-country</th>\n",
       "    </tr>\n",
       "  </thead>\n",
       "  <tbody>\n",
       "    <tr>\n",
       "      <th>0</th>\n",
       "      <td>3.663562</td>\n",
       "      <td>5.0</td>\n",
       "      <td>0.0</td>\n",
       "      <td>1.0</td>\n",
       "      <td>0.0</td>\n",
       "      <td>1.0</td>\n",
       "      <td>4.0</td>\n",
       "      <td>1.0</td>\n",
       "      <td>2174</td>\n",
       "      <td>0</td>\n",
       "      <td>40</td>\n",
       "      <td>3.0</td>\n",
       "    </tr>\n",
       "    <tr>\n",
       "      <th>1</th>\n",
       "      <td>3.912023</td>\n",
       "      <td>4.0</td>\n",
       "      <td>0.0</td>\n",
       "      <td>0.0</td>\n",
       "      <td>3.0</td>\n",
       "      <td>0.0</td>\n",
       "      <td>4.0</td>\n",
       "      <td>1.0</td>\n",
       "      <td>0</td>\n",
       "      <td>0</td>\n",
       "      <td>13</td>\n",
       "      <td>3.0</td>\n",
       "    </tr>\n",
       "    <tr>\n",
       "      <th>2</th>\n",
       "      <td>3.637586</td>\n",
       "      <td>2.0</td>\n",
       "      <td>2.0</td>\n",
       "      <td>2.0</td>\n",
       "      <td>5.0</td>\n",
       "      <td>1.0</td>\n",
       "      <td>4.0</td>\n",
       "      <td>1.0</td>\n",
       "      <td>0</td>\n",
       "      <td>0</td>\n",
       "      <td>40</td>\n",
       "      <td>3.0</td>\n",
       "    </tr>\n",
       "    <tr>\n",
       "      <th>3</th>\n",
       "      <td>3.970292</td>\n",
       "      <td>2.0</td>\n",
       "      <td>5.0</td>\n",
       "      <td>0.0</td>\n",
       "      <td>5.0</td>\n",
       "      <td>0.0</td>\n",
       "      <td>2.0</td>\n",
       "      <td>1.0</td>\n",
       "      <td>0</td>\n",
       "      <td>0</td>\n",
       "      <td>40</td>\n",
       "      <td>3.0</td>\n",
       "    </tr>\n",
       "    <tr>\n",
       "      <th>4</th>\n",
       "      <td>3.332205</td>\n",
       "      <td>2.0</td>\n",
       "      <td>0.0</td>\n",
       "      <td>0.0</td>\n",
       "      <td>9.0</td>\n",
       "      <td>5.0</td>\n",
       "      <td>2.0</td>\n",
       "      <td>0.0</td>\n",
       "      <td>0</td>\n",
       "      <td>0</td>\n",
       "      <td>40</td>\n",
       "      <td>2.0</td>\n",
       "    </tr>\n",
       "  </tbody>\n",
       "</table>\n",
       "</div>"
      ],
      "text/plain": [
       "        age  Workclass  education  marital-status  occupation  relationship  \\\n",
       "0  3.663562        5.0        0.0             1.0         0.0           1.0   \n",
       "1  3.912023        4.0        0.0             0.0         3.0           0.0   \n",
       "2  3.637586        2.0        2.0             2.0         5.0           1.0   \n",
       "3  3.970292        2.0        5.0             0.0         5.0           0.0   \n",
       "4  3.332205        2.0        0.0             0.0         9.0           5.0   \n",
       "\n",
       "   race  sex  capital-gain  capital-loss  hours-per-week  native-country  \n",
       "0   4.0  1.0          2174             0              40             3.0  \n",
       "1   4.0  1.0             0             0              13             3.0  \n",
       "2   4.0  1.0             0             0              40             3.0  \n",
       "3   2.0  1.0             0             0              40             3.0  \n",
       "4   2.0  0.0             0             0              40             2.0  "
      ]
     },
     "execution_count": 57,
     "metadata": {},
     "output_type": "execute_result"
    }
   ],
   "source": [
    "feature.head()"
   ]
  },
  {
   "cell_type": "code",
   "execution_count": 58,
   "id": "ad380b23",
   "metadata": {},
   "outputs": [
    {
     "name": "stdout",
     "output_type": "stream",
     "text": [
      "<class 'pandas.core.frame.DataFrame'>\n",
      "RangeIndex: 1032 entries, 0 to 1031\n",
      "Data columns (total 12 columns):\n",
      " #   Column          Non-Null Count  Dtype  \n",
      "---  ------          --------------  -----  \n",
      " 0   age             1032 non-null   float64\n",
      " 1   Workclass       1032 non-null   float64\n",
      " 2   education       1032 non-null   float64\n",
      " 3   marital-status  1032 non-null   float64\n",
      " 4   occupation      1032 non-null   float64\n",
      " 5   relationship    1032 non-null   float64\n",
      " 6   race            1032 non-null   float64\n",
      " 7   sex             1032 non-null   float64\n",
      " 8   capital-gain    1032 non-null   int64  \n",
      " 9   capital-loss    1032 non-null   int64  \n",
      " 10  hours-per-week  1032 non-null   int64  \n",
      " 11  native-country  1032 non-null   float64\n",
      "dtypes: float64(9), int64(3)\n",
      "memory usage: 96.9 KB\n"
     ]
    }
   ],
   "source": [
    "feature.info()"
   ]
  },
  {
   "cell_type": "markdown",
   "id": "5afa8290",
   "metadata": {},
   "source": [
    "# Data Scaling"
   ]
  },
  {
   "cell_type": "code",
   "execution_count": 59,
   "id": "293f2f51",
   "metadata": {},
   "outputs": [
    {
     "data": {
      "text/html": [
       "<div>\n",
       "<style scoped>\n",
       "    .dataframe tbody tr th:only-of-type {\n",
       "        vertical-align: middle;\n",
       "    }\n",
       "\n",
       "    .dataframe tbody tr th {\n",
       "        vertical-align: top;\n",
       "    }\n",
       "\n",
       "    .dataframe thead th {\n",
       "        text-align: right;\n",
       "    }\n",
       "</style>\n",
       "<table border=\"1\" class=\"dataframe\">\n",
       "  <thead>\n",
       "    <tr style=\"text-align: right;\">\n",
       "      <th></th>\n",
       "      <th>age</th>\n",
       "      <th>Workclass</th>\n",
       "      <th>education</th>\n",
       "      <th>marital-status</th>\n",
       "      <th>occupation</th>\n",
       "      <th>relationship</th>\n",
       "      <th>race</th>\n",
       "      <th>sex</th>\n",
       "      <th>capital-gain</th>\n",
       "      <th>capital-loss</th>\n",
       "      <th>hours-per-week</th>\n",
       "      <th>native-country</th>\n",
       "    </tr>\n",
       "  </thead>\n",
       "  <tbody>\n",
       "    <tr>\n",
       "      <th>0</th>\n",
       "      <td>0.246897</td>\n",
       "      <td>3.026993</td>\n",
       "      <td>-1.639620</td>\n",
       "      <td>0.323270</td>\n",
       "      <td>-1.570166</td>\n",
       "      <td>-0.294678</td>\n",
       "      <td>0.390011</td>\n",
       "      <td>0.687155</td>\n",
       "      <td>0.670935</td>\n",
       "      <td>-0.238102</td>\n",
       "      <td>-0.060217</td>\n",
       "      <td>0.280292</td>\n",
       "    </tr>\n",
       "    <tr>\n",
       "      <th>1</th>\n",
       "      <td>0.971549</td>\n",
       "      <td>1.941567</td>\n",
       "      <td>-1.639620</td>\n",
       "      <td>-0.964817</td>\n",
       "      <td>-0.819975</td>\n",
       "      <td>-0.902893</td>\n",
       "      <td>0.390011</td>\n",
       "      <td>0.687155</td>\n",
       "      <td>-0.232898</td>\n",
       "      <td>-0.238102</td>\n",
       "      <td>-2.361827</td>\n",
       "      <td>0.280292</td>\n",
       "    </tr>\n",
       "    <tr>\n",
       "      <th>2</th>\n",
       "      <td>0.171138</td>\n",
       "      <td>-0.229286</td>\n",
       "      <td>-0.260575</td>\n",
       "      <td>1.611356</td>\n",
       "      <td>-0.319849</td>\n",
       "      <td>-0.294678</td>\n",
       "      <td>0.390011</td>\n",
       "      <td>0.687155</td>\n",
       "      <td>-0.232898</td>\n",
       "      <td>-0.238102</td>\n",
       "      <td>-0.060217</td>\n",
       "      <td>0.280292</td>\n",
       "    </tr>\n",
       "    <tr>\n",
       "      <th>3</th>\n",
       "      <td>1.141494</td>\n",
       "      <td>-0.229286</td>\n",
       "      <td>1.807992</td>\n",
       "      <td>-0.964817</td>\n",
       "      <td>-0.319849</td>\n",
       "      <td>-0.902893</td>\n",
       "      <td>-2.079263</td>\n",
       "      <td>0.687155</td>\n",
       "      <td>-0.232898</td>\n",
       "      <td>-0.238102</td>\n",
       "      <td>-0.060217</td>\n",
       "      <td>0.280292</td>\n",
       "    </tr>\n",
       "    <tr>\n",
       "      <th>4</th>\n",
       "      <td>-0.719525</td>\n",
       "      <td>-0.229286</td>\n",
       "      <td>-1.639620</td>\n",
       "      <td>-0.964817</td>\n",
       "      <td>0.680405</td>\n",
       "      <td>2.138182</td>\n",
       "      <td>-2.079263</td>\n",
       "      <td>-1.455275</td>\n",
       "      <td>-0.232898</td>\n",
       "      <td>-0.238102</td>\n",
       "      <td>-0.060217</td>\n",
       "      <td>-2.090700</td>\n",
       "    </tr>\n",
       "  </tbody>\n",
       "</table>\n",
       "</div>"
      ],
      "text/plain": [
       "        age  Workclass  education  marital-status  occupation  relationship  \\\n",
       "0  0.246897   3.026993  -1.639620        0.323270   -1.570166     -0.294678   \n",
       "1  0.971549   1.941567  -1.639620       -0.964817   -0.819975     -0.902893   \n",
       "2  0.171138  -0.229286  -0.260575        1.611356   -0.319849     -0.294678   \n",
       "3  1.141494  -0.229286   1.807992       -0.964817   -0.319849     -0.902893   \n",
       "4 -0.719525  -0.229286  -1.639620       -0.964817    0.680405      2.138182   \n",
       "\n",
       "       race       sex  capital-gain  capital-loss  hours-per-week  \\\n",
       "0  0.390011  0.687155      0.670935     -0.238102       -0.060217   \n",
       "1  0.390011  0.687155     -0.232898     -0.238102       -2.361827   \n",
       "2  0.390011  0.687155     -0.232898     -0.238102       -0.060217   \n",
       "3 -2.079263  0.687155     -0.232898     -0.238102       -0.060217   \n",
       "4 -2.079263 -1.455275     -0.232898     -0.238102       -0.060217   \n",
       "\n",
       "   native-country  \n",
       "0        0.280292  \n",
       "1        0.280292  \n",
       "2        0.280292  \n",
       "3        0.280292  \n",
       "4       -2.090700  "
      ]
     },
     "execution_count": 59,
     "metadata": {},
     "output_type": "execute_result"
    }
   ],
   "source": [
    "from sklearn.preprocessing import StandardScaler\n",
    "ss= StandardScaler()\n",
    "feature.iloc[:,:] = ss.fit_transform(feature.iloc[:,:])\n",
    "feature.head()"
   ]
  },
  {
   "cell_type": "code",
   "execution_count": 60,
   "id": "d9000adc",
   "metadata": {},
   "outputs": [
    {
     "data": {
      "text/plain": [
       "marital-status   -0.389014\n",
       "relationship     -0.203947\n",
       "education        -0.190768\n",
       "occupation        0.004003\n",
       "native-country    0.032147\n",
       "Workclass         0.057002\n",
       "race              0.075645\n",
       "capital-loss      0.144675\n",
       "sex               0.161294\n",
       "hours-per-week    0.240963\n",
       "age               0.278377\n",
       "capital-gain      0.317856\n",
       "Income            1.000000\n",
       "Name: Income, dtype: float64"
      ]
     },
     "execution_count": 60,
     "metadata": {},
     "output_type": "execute_result"
    }
   ],
   "source": [
    "pd.concat([feature,target], axis=1).corr()['Income'].sort_values()"
   ]
  },
  {
   "cell_type": "markdown",
   "id": "26abc3df",
   "metadata": {},
   "source": [
    "# Split the Data"
   ]
  },
  {
   "cell_type": "code",
   "execution_count": 61,
   "id": "9b14c14a",
   "metadata": {},
   "outputs": [],
   "source": [
    "from sklearn.model_selection import train_test_split\n",
    "xtrain,xtest,ytrain, ytest= train_test_split(feature,target,test_size=0.2, random_state=1)"
   ]
  },
  {
   "cell_type": "code",
   "execution_count": 62,
   "id": "ca700c1c",
   "metadata": {},
   "outputs": [
    {
     "name": "stdout",
     "output_type": "stream",
     "text": [
      "(825, 12)\n",
      "(207, 12)\n",
      "(825,)\n",
      "(207,)\n"
     ]
    }
   ],
   "source": [
    "print(xtrain.shape)\n",
    "print(xtest.shape)\n",
    "print(ytrain.shape)\n",
    "print(ytest.shape)"
   ]
  },
  {
   "cell_type": "markdown",
   "id": "edced629",
   "metadata": {},
   "source": [
    "# Logistic Regression"
   ]
  },
  {
   "cell_type": "code",
   "execution_count": 63,
   "id": "fd35dbf9",
   "metadata": {},
   "outputs": [],
   "source": [
    "from sklearn.linear_model import LogisticRegression\n",
    "lr= LogisticRegression()\n",
    "lr.fit(xtrain,ytrain)\n",
    "ypred=lr.predict(xtest)"
   ]
  },
  {
   "cell_type": "code",
   "execution_count": 64,
   "id": "c7e157dc",
   "metadata": {},
   "outputs": [
    {
     "name": "stdout",
     "output_type": "stream",
     "text": [
      "Accuracy Score: 0.8164251207729468\n",
      "\n",
      "Confusion Matrix:\n",
      "[[147  11]\n",
      " [ 27  22]]\n",
      "\n",
      "Classification Report :\n",
      "              precision    recall  f1-score   support\n",
      "\n",
      "           0       0.84      0.93      0.89       158\n",
      "           1       0.67      0.45      0.54        49\n",
      "\n",
      "    accuracy                           0.82       207\n",
      "   macro avg       0.76      0.69      0.71       207\n",
      "weighted avg       0.80      0.82      0.80       207\n",
      "\n"
     ]
    }
   ],
   "source": [
    "from sklearn.metrics import accuracy_score, confusion_matrix,classification_report\n",
    "\n",
    "ac=accuracy_score(ytest,ypred)\n",
    "cm= confusion_matrix(ytest,ypred)\n",
    "cr= classification_report(ytest,ypred)\n",
    "\n",
    "print(f\"Accuracy Score: {ac}\\n\\nConfusion Matrix:\\n{cm}\\n\\nClassification Report :\\n{cr}\")"
   ]
  },
  {
   "cell_type": "code",
   "execution_count": 65,
   "id": "1585e228",
   "metadata": {
    "scrolled": false
   },
   "outputs": [
    {
     "name": "stdout",
     "output_type": "stream",
     "text": [
      "Precision for(0): 0.8682634730538922\n",
      "Precision for(1): 0.675\n"
     ]
    }
   ],
   "source": [
    "# Precision = tp/(tp+fp)\n",
    "\n",
    "print('Precision for(0):', (145/(145+22)))\n",
    "print('Precision for(1):', (27/(27+13)))\n"
   ]
  },
  {
   "cell_type": "code",
   "execution_count": 66,
   "id": "2a1ce7b5",
   "metadata": {},
   "outputs": [
    {
     "name": "stdout",
     "output_type": "stream",
     "text": [
      "Recall for (0): 0.9177215189873418\n",
      "Recall for (1): 0.5510204081632653\n"
     ]
    }
   ],
   "source": [
    "# recall = tp/(tp+ fn)\n",
    "\n",
    "print(\"Recall for (0):\", (145/(145+13)))\n",
    "print(\"Recall for (1):\", (27/(27+22)))"
   ]
  },
  {
   "cell_type": "code",
   "execution_count": 67,
   "id": "88e514aa",
   "metadata": {},
   "outputs": [
    {
     "name": "stdout",
     "output_type": "stream",
     "text": [
      "F1 Score(0): 0.8943016759776536\n",
      "F1 Score(1): 0.6081300813008131\n"
     ]
    }
   ],
   "source": [
    "# F1-Score = 2*(precision*recall)/(precision+recall)\n",
    "\n",
    "print(\"F1 Score(0):\", 2*(0.87*0.92)/(0.87+0.92))\n",
    "print(\"F1 Score(1):\", 2*(0.68*0.55)/(0.68+0.55))"
   ]
  },
  {
   "cell_type": "code",
   "execution_count": 68,
   "id": "ebf38b42",
   "metadata": {},
   "outputs": [
    {
     "name": "stdout",
     "output_type": "stream",
     "text": [
      "Training Accuracy: 0.8096969696969697\n",
      "Testing Accuracy: 0.8164251207729468\n"
     ]
    }
   ],
   "source": [
    "tr=lr.score(xtrain,ytrain)\n",
    "te= lr.score(xtest,ytest)\n",
    "\n",
    "print(f\"Training Accuracy: {tr}\\nTesting Accuracy: {te}\")"
   ]
  },
  {
   "cell_type": "markdown",
   "id": "61199b36",
   "metadata": {},
   "source": [
    "training score and testing score are almost same"
   ]
  },
  {
   "cell_type": "markdown",
   "id": "e37f4d75",
   "metadata": {},
   "source": [
    "# Repeat the Step:\n",
    "    \n",
    "    Use Stratify\n",
    "Data is imbalance So we will use \"Stratify\""
   ]
  },
  {
   "cell_type": "code",
   "execution_count": 69,
   "id": "093f1e6d",
   "metadata": {},
   "outputs": [
    {
     "name": "stdout",
     "output_type": "stream",
     "text": [
      "Accuracy Score: 0.7777777777777778\n",
      "\n",
      "Confusion Matrix:\n",
      "[[140  16]\n",
      " [ 30  21]]\n",
      "\n",
      "Classification Report :\n",
      "              precision    recall  f1-score   support\n",
      "\n",
      "           0       0.82      0.90      0.86       156\n",
      "           1       0.57      0.41      0.48        51\n",
      "\n",
      "    accuracy                           0.78       207\n",
      "   macro avg       0.70      0.65      0.67       207\n",
      "weighted avg       0.76      0.78      0.76       207\n",
      "\n"
     ]
    }
   ],
   "source": [
    "\n",
    "xtrain,xtest,ytrain, ytest= train_test_split(feature,target,test_size=0.2, random_state=1, stratify= target)\n",
    "\n",
    "\n",
    "\n",
    "lr= LogisticRegression()\n",
    "lr.fit(xtrain,ytrain)\n",
    "ypred=lr.predict(xtest)\n",
    "\n",
    "\n",
    "\n",
    "ac=accuracy_score(ytest,ypred)\n",
    "cm= confusion_matrix(ytest,ypred)\n",
    "cr= classification_report(ytest,ypred)\n",
    "\n",
    "print(f\"Accuracy Score: {ac}\\n\\nConfusion Matrix:\\n{cm}\\n\\nClassification Report :\\n{cr}\")\n",
    "\n"
   ]
  },
  {
   "cell_type": "code",
   "execution_count": 70,
   "id": "df3523d1",
   "metadata": {},
   "outputs": [
    {
     "name": "stdout",
     "output_type": "stream",
     "text": [
      "Training Accuracy: 0.8157575757575758\n",
      "Testing Accuracy: 0.7777777777777778\n"
     ]
    }
   ],
   "source": [
    "tr=lr.score(xtrain,ytrain)\n",
    "te= lr.score(xtest,ytest)\n",
    "\n",
    "print(f\"Training Accuracy: {tr}\\nTesting Accuracy: {te}\")"
   ]
  },
  {
   "cell_type": "markdown",
   "id": "db8ed2f7",
   "metadata": {},
   "source": [
    "After Using Stratify in Logistic Regression, training score is higher than testing score so this is case of overfitting."
   ]
  },
  {
   "cell_type": "markdown",
   "id": "6bf2a941",
   "metadata": {},
   "source": [
    "# KNN Classification"
   ]
  },
  {
   "cell_type": "code",
   "execution_count": 71,
   "id": "6cdfdfb0",
   "metadata": {},
   "outputs": [],
   "source": [
    "from sklearn.neighbors import KNeighborsClassifier\n",
    "\n",
    "knn= KNeighborsClassifier(n_neighbors=5)    # 5 is just random number as well as bydefault number\n",
    " \n",
    "knn.fit(xtrain, ytrain)\n",
    "\n",
    "ypred= knn.predict(xtest)"
   ]
  },
  {
   "cell_type": "code",
   "execution_count": 72,
   "id": "6c7ba464",
   "metadata": {},
   "outputs": [
    {
     "name": "stdout",
     "output_type": "stream",
     "text": [
      "Accuracy: 0.782608695652174\n",
      " [[137  19]\n",
      " [ 26  25]]\n",
      "              precision    recall  f1-score   support\n",
      "\n",
      "           0       0.84      0.88      0.86       156\n",
      "           1       0.57      0.49      0.53        51\n",
      "\n",
      "    accuracy                           0.78       207\n",
      "   macro avg       0.70      0.68      0.69       207\n",
      "weighted avg       0.77      0.78      0.78       207\n",
      "\n"
     ]
    }
   ],
   "source": [
    "from sklearn.metrics import accuracy_score, confusion_matrix, classification_report\n",
    "\n",
    "ac= accuracy_score(ytest,ypred)\n",
    "cm= confusion_matrix(ytest,ypred)\n",
    "cr= classification_report(ytest,ypred)\n",
    "\n",
    "print(f\"Accuracy: {ac}\\n {cm}\\n{cr}\")"
   ]
  },
  {
   "cell_type": "code",
   "execution_count": 73,
   "id": "6981dcec",
   "metadata": {},
   "outputs": [
    {
     "name": "stdout",
     "output_type": "stream",
     "text": [
      "Training Accuracy: 0.8472727272727273\n",
      "Testing Accuracy: 0.782608695652174\n"
     ]
    }
   ],
   "source": [
    "train=knn.score(xtrain,ytrain)\n",
    "test= knn.score(xtest,ytest)\n",
    "\n",
    "print(f\"Training Accuracy: {train}\\nTesting Accuracy: {test}\")"
   ]
  },
  {
   "cell_type": "markdown",
   "id": "d5d8a2bf",
   "metadata": {},
   "source": [
    "this is the case of Overfitting because training score is higher than testing score"
   ]
  },
  {
   "cell_type": "markdown",
   "id": "73e100a0",
   "metadata": {},
   "source": [
    "# Hyper Parameter tunning"
   ]
  },
  {
   "cell_type": "code",
   "execution_count": 74,
   "id": "9dba3be0",
   "metadata": {},
   "outputs": [],
   "source": [
    "train_accuracy= []\n",
    "test_accuracy=[]\n",
    "\n",
    "for i in range(1,50):\n",
    "    knn= KNeighborsClassifier(n_neighbors=i)\n",
    "    knn.fit(xtrain, ytrain)\n",
    "    \n",
    "    train= knn.score(xtrain,ytrain)\n",
    "    test= knn.score(xtest,ytest)\n",
    "    \n",
    "    train_accuracy.append(train)\n",
    "    test_accuracy.append(test)"
   ]
  },
  {
   "cell_type": "code",
   "execution_count": 75,
   "id": "b7976c21",
   "metadata": {},
   "outputs": [
    {
     "data": {
      "image/png": "[encoded data removed]",
      "text/plain": [
       "<Figure size 432x288 with 1 Axes>"
      ]
     },
     "metadata": {
      "needs_background": "light"
     },
     "output_type": "display_data"
    }
   ],
   "source": [
    "plt.plot(range(1,50),train_accuracy, color= \"red\")\n",
    "plt.plot(range(1,50),test_accuracy, color=\"blue\")\n",
    "plt.show()"
   ]
  },
  {
   "cell_type": "code",
   "execution_count": 76,
   "id": "4fa5dfac",
   "metadata": {},
   "outputs": [
    {
     "name": "stdout",
     "output_type": "stream",
     "text": [
      "Accuracy: 0.821256038647343\n",
      " [[148   8]\n",
      " [ 29  22]]\n",
      "              precision    recall  f1-score   support\n",
      "\n",
      "           0       0.84      0.95      0.89       156\n",
      "           1       0.73      0.43      0.54        51\n",
      "\n",
      "    accuracy                           0.82       207\n",
      "   macro avg       0.78      0.69      0.72       207\n",
      "weighted avg       0.81      0.82      0.80       207\n",
      "\n"
     ]
    }
   ],
   "source": [
    "# after finding new n_neighbors then re write again Knn function\n",
    "\n",
    "knn= KNeighborsClassifier(n_neighbors=19)\n",
    "\n",
    "knn.fit(xtrain, ytrain)\n",
    "\n",
    "ypred= knn.predict(xtest)\n",
    "\n",
    "\n",
    "ac= accuracy_score(ytest,ypred)\n",
    "cm= confusion_matrix(ytest,ypred)\n",
    "cr= classification_report(ytest,ypred)\n",
    "\n",
    "print(f\"Accuracy: {ac}\\n {cm}\\n{cr}\")"
   ]
  },
  {
   "cell_type": "code",
   "execution_count": 77,
   "id": "598e91a9",
   "metadata": {},
   "outputs": [
    {
     "name": "stdout",
     "output_type": "stream",
     "text": [
      "Training Accuracy: 0.8266666666666667\n",
      "Testing Accuracy: 0.821256038647343\n"
     ]
    }
   ],
   "source": [
    "train=knn.score(xtrain,ytrain)\n",
    "test= knn.score(xtest,ytest)\n",
    "\n",
    "print(f\"Training Accuracy: {train}\\nTesting Accuracy: {test}\")"
   ]
  },
  {
   "cell_type": "markdown",
   "id": "ee7b5495",
   "metadata": {},
   "source": [
    "Training score and testing score are almost same after using Hyper parameter tunning in  KNN classifier"
   ]
  },
  {
   "cell_type": "code",
   "execution_count": 78,
   "id": "08f042e6",
   "metadata": {},
   "outputs": [
    {
     "data": {
      "text/plain": [
       "Index(['age', 'Workclass', 'education', 'marital-status', 'occupation',\n",
       "       'relationship', 'race', 'sex', 'capital-gain', 'capital-loss',\n",
       "       'hours-per-week', 'native-country'],\n",
       "      dtype='object')"
      ]
     },
     "execution_count": 78,
     "metadata": {},
     "output_type": "execute_result"
    }
   ],
   "source": [
    "feature.columns"
   ]
  },
  {
   "cell_type": "markdown",
   "id": "45f20205",
   "metadata": {},
   "source": [
    "# Model Observation"
   ]
  },
  {
   "cell_type": "code",
   "execution_count": 79,
   "id": "39d7e70b",
   "metadata": {},
   "outputs": [],
   "source": [
    "\n",
    "def income():\n",
    "    age1= float(input(\"Enter your Age: \"))\n",
    "    Workclass= float(input(\"Enter your Workclass: \"))\n",
    "    education = float(input(\"Enter your education: \"))\n",
    "    marital_status = float(input(\"Enter your marital-status: \"))\n",
    "    occupation = float(input(\"Enter your occupation: \"))\n",
    "    relationship = float(input(\"Enter your relationship: \"))\n",
    "    race = float(input(\"Enter your race: \"))\n",
    "    sex = float(input(\"Enter your sex: \"))\n",
    "    capital_gain = int(input(\"Enter your capital-gain: \"))\n",
    "    capital_loss = int(input(\"Enter your capital-loss: \"))\n",
    "    hours_per_week = int(input(\"Enter your hours-per-week: \"))\n",
    "    native_country = float(input(\"Enter your native-country: \"))\n",
    "    \n",
    "    age= np.log(age1)\n",
    "        \n",
    "    \n",
    "    newob = [[age, Workclass, education, marital_status, occupation, relationship, race, sex,capital_gain, capital_loss, hours_per_week, native_country]]\n",
    "    newscaler= ss.transform(newob)\n",
    "    yp= knn.predict(newscaler)\n",
    "    if(yp==1):\n",
    "        print(\"income would be >=50K\")\n",
    "\n",
    "    else:\n",
    "        print(\"Income would be <50K\")\n",
    "        \n",
    "       "
   ]
  },
  {
   "cell_type": "markdown",
   "id": "50667366",
   "metadata": {},
   "source": [
    "<h3> age=40, workclass=  Self-emp-inc(3.0), education=  Bachelors (0.0) , marital-status = Married (0.0) , occupation=  Prof-specialty (9.0), relationship=Husband (0.0) , race= white (4.0) , sex= Male (1.0) , capital-gain=0 , capital-loss= 0,hours-per-week= 50, native-country= United-States (3.0) </h3>"
   ]
  },
  {
   "cell_type": "code",
   "execution_count": 80,
   "id": "59b48119",
   "metadata": {},
   "outputs": [
    {
     "name": "stdout",
     "output_type": "stream",
     "text": [
      "Enter your Age: 40\n",
      "Enter your Workclass: 3\n",
      "Enter your education: 0\n",
      "Enter your marital-status: 0\n",
      "Enter your occupation: 9\n",
      "Enter your relationship: 0\n",
      "Enter your race: 4\n",
      "Enter your sex: 1\n",
      "Enter your capital-gain: 0\n",
      "Enter your capital-loss: 0\n",
      "Enter your hours-per-week: 50\n",
      "Enter your native-country: 3\n",
      "income would be >=50K\n"
     ]
    }
   ],
   "source": [
    "income()"
   ]
  },
  {
   "cell_type": "markdown",
   "id": "38e22bbf",
   "metadata": {},
   "source": [
    "<h3> age=49, workclass=private(2), education=  HS-grad (2.0) , marital-status = married (0.0) , occupation=  Craft-repair(2.0), relationship=Husband (0.0) , race= white (4.0) , sex= Male (1.0) , capital-gain=0 , capital-loss= 0,hours-per-week= 52, native-country= United-States (3.0) </h3>"
   ]
  },
  {
   "cell_type": "code",
   "execution_count": 81,
   "id": "04fb6b02",
   "metadata": {},
   "outputs": [
    {
     "name": "stdout",
     "output_type": "stream",
     "text": [
      "Enter your Age: 49\n",
      "Enter your Workclass: 2\n",
      "Enter your education: 2\n",
      "Enter your marital-status: 0\n",
      "Enter your occupation: 2\n",
      "Enter your relationship: 0\n",
      "Enter your race: 4\n",
      "Enter your sex: 1\n",
      "Enter your capital-gain: 0\n",
      "Enter your capital-loss: 0\n",
      "Enter your hours-per-week: 52\n",
      "Enter your native-country: 3\n",
      "Income would be <50K\n"
     ]
    }
   ],
   "source": [
    "income()"
   ]
  },
  {
   "cell_type": "markdown",
   "id": "884d45d7",
   "metadata": {},
   "source": [
    "<h3> age=42, workclass=  State-gov(5), education= Bachelors (0.0) , marital-status = Other (2.0) , occupation= Farming-fishing (4.0), relationship=Husband (0.0) , race= Other (3.0) , sex= Female (0.0) , capital-gain=0 , capital-loss= 0,hours-per-week= 40, native-country= United-States (3.0)  </h3>"
   ]
  },
  {
   "cell_type": "code",
   "execution_count": 82,
   "id": "59d86efe",
   "metadata": {},
   "outputs": [
    {
     "name": "stdout",
     "output_type": "stream",
     "text": [
      "Enter your Age: 42\n",
      "Enter your Workclass: 5\n",
      "Enter your education: 0\n",
      "Enter your marital-status: 2\n",
      "Enter your occupation: 4\n",
      "Enter your relationship: 0\n",
      "Enter your race: 3\n",
      "Enter your sex: 0\n",
      "Enter your capital-gain: 0\n",
      "Enter your capital-loss: 0\n",
      "Enter your hours-per-week: 40\n",
      "Enter your native-country: 3\n",
      "Income would be <50K\n"
     ]
    }
   ],
   "source": [
    "income()"
   ]
  },
  {
   "cell_type": "code",
   "execution_count": null,
   "id": "c6840d0e",
   "metadata": {},
   "outputs": [],
   "source": []
  },
  {
   "cell_type": "code",
   "execution_count": null,
   "id": "18076a10",
   "metadata": {},
   "outputs": [],
   "source": []
  },
  {
   "cell_type": "code",
   "execution_count": null,
   "id": "0b0d8280",
   "metadata": {},
   "outputs": [],
   "source": []
  }
 ],
 "metadata": {
  "kernelspec": {
   "display_name": "Python 3 (ipykernel)",
   "language": "python",
   "name": "python3"
  },
  "language_info": {
   "codemirror_mode": {
    "name": "ipython",
    "version": 3
   },
   "file_extension": ".py",
   "mimetype": "text/x-python",
   "name": "python",
   "nbconvert_exporter": "python",
   "pygments_lexer": "ipython3",
   "version": "3.9.12"
  }
 },
 "nbformat": 4,
 "nbformat_minor": 5
}
